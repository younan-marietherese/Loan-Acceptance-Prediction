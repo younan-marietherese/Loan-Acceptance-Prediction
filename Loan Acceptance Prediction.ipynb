{
  "nbformat": 4,
  "nbformat_minor": 0,
  "metadata": {
    "colab": {
      "provenance": []
    },
    "kernelspec": {
      "name": "python3",
      "display_name": "Python 3"
    },
    "language_info": {
      "name": "python"
    }
  },
  "cells": [
    {
      "cell_type": "markdown",
      "source": [
        "#**Module 1 Challenge - Loan Acceptance Prediction**"
      ],
      "metadata": {
        "id": "khw_4rkBDp6_"
      }
    },
    {
      "cell_type": "markdown",
      "source": [
        "##**Objective**:\n",
        "\n",
        "In this challenge, we will explore a Loan dataset, go through\n",
        "the steps of the Data Science Lifecycle, and finally be able to\n",
        "build a simple machine learning model that predicts whether\n",
        "a person’s loan will be accepted or rejected based on his/her\n",
        "features."
      ],
      "metadata": {
        "id": "2GzmEKgEDuzA"
      }
    },
    {
      "cell_type": "markdown",
      "source": [
        "##**Dataset Description:**\n",
        "\n",
        "- Loan_ID: data set unique ID\n",
        "\n",
        "- Gender: individual gender\n",
        "\n",
        "- Married: individual marital status\n",
        "- Dependents: number of dependents\n",
        "- Education: individual education status\n",
        "- Self_Employed: individual employment status\n",
        "\n",
        "- ApplicantIncome: individual income\n",
        "\n",
        "- CoapplicantIncome: individual Co Applicant income\n",
        "\n",
        "- LoanAmount: Loan amount in thousands\n",
        "\n",
        "- Loan_Amount_Term: term of loan in months\n",
        "\n",
        "- Credit_History: credit history meets guidelines\n",
        "\n",
        "- Property_Area: Urban/ Semi Urban/ Rural\n",
        "\n",
        "- Loan_Status: loan approved (Y/N) - TARGET"
      ],
      "metadata": {
        "id": "6kuXXlWxDwbO"
      }
    },
    {
      "cell_type": "markdown",
      "source": [
        "## **Understanding the Problem**\n",
        "\n",
        "The task here is to predict whether a loan will be approved (Loan_Status = Yes/No).\n",
        "\n",
        "So, it's a Binary classification task.\n",
        "\n",
        "We will use Logistic Regression for that purpose.\n",
        "\n",
        "\n",
        "##**Assumptions/Insights to Include**:\n",
        "\n",
        "Credit history and applicant income likely have a strong influence on loan approval.\n",
        "\n",
        "\n",
        "The property area may influence decisions based on urban vs. semiurban vs. rural economic conditions."
      ],
      "metadata": {
        "id": "yDdOwumaD3CQ"
      }
    },
    {
      "cell_type": "markdown",
      "source": [
        "# 1. Data Loading"
      ],
      "metadata": {
        "id": "SqwlW7ASD6RI"
      }
    },
    {
      "cell_type": "markdown",
      "source": [
        "#### Import necessary python modules"
      ],
      "metadata": {
        "id": "LSAc-I33D7Ww"
      }
    },
    {
      "cell_type": "code",
      "source": [
        "import numpy as np\n",
        "import pandas as pd\n",
        "import matplotlib.pyplot as plt\n",
        "\n",
        "from sklearn.model_selection import train_test_split\n",
        "from sklearn.linear_model import LinearRegression"
      ],
      "metadata": {
        "id": "9YrcQg8GD9ZV"
      },
      "execution_count": null,
      "outputs": []
    },
    {
      "cell_type": "markdown",
      "source": [
        "#### Load and Read the data\n",
        "\n",
        "We have the data stored in csv (Comma Separated Values) files. We have 2 files, one for training and the other for testing.\n",
        "\n",
        "We need to combine them into one dataset and at the end when training the model, we will split it into training and testing.\n",
        "\n",
        "We need to get and load our dataset by using the read_csv function of the pandas library."
      ],
      "metadata": {
        "id": "C7JyhJtqEBsE"
      }
    },
    {
      "cell_type": "code",
      "source": [
        "#load both datasets\n",
        "train_df = pd.read_csv('train - train.csv')\n",
        "test_df = pd.read_csv('test - test.csv')\n",
        "\n",
        "#tag source before combining\n",
        "train_df['source'] = 'train'\n",
        "test_df['source'] = 'test'\n",
        "\n",
        "#merge both datasets for consistent preprocessing\n",
        "df = pd.concat([train_df, test_df], ignore_index=True)"
      ],
      "metadata": {
        "id": "loqLdBU-ECSh"
      },
      "execution_count": null,
      "outputs": []
    },
    {
      "cell_type": "markdown",
      "source": [
        "Let's look inside the data"
      ],
      "metadata": {
        "id": "su8VwyZhEGEA"
      }
    },
    {
      "cell_type": "code",
      "execution_count": null,
      "metadata": {
        "colab": {
          "base_uri": "https://localhost:8080/"
        },
        "id": "5QeEHccaDRgX",
        "outputId": "7060fcb5-463f-40b8-c75b-07502149057e"
      },
      "outputs": [
        {
          "output_type": "stream",
          "name": "stdout",
          "text": [
            "First 5 rows\n",
            "    Loan_ID Gender Married Dependents     Education Self_Employed  \\\n",
            "0  LP001002   Male      No          0      Graduate            No   \n",
            "1  LP001003   Male     Yes          1      Graduate            No   \n",
            "2  LP001005   Male     Yes          0      Graduate           Yes   \n",
            "3  LP001006   Male     Yes          0  Not Graduate            No   \n",
            "4  LP001008   Male      No          0      Graduate            No   \n",
            "\n",
            "   ApplicantIncome  CoapplicantIncome  LoanAmount  Loan_Amount_Term  \\\n",
            "0             5849                0.0         NaN             360.0   \n",
            "1             4583             1508.0       128.0             360.0   \n",
            "2             3000                0.0        66.0             360.0   \n",
            "3             2583             2358.0       120.0             360.0   \n",
            "4             6000                0.0       141.0             360.0   \n",
            "\n",
            "   Credit_History Property_Area Loan_Status source  \n",
            "0             1.0         Urban           Y  train  \n",
            "1             1.0         Rural           N  train  \n",
            "2             1.0         Urban           Y  train  \n",
            "3             1.0         Urban           Y  train  \n",
            "4             1.0         Urban           Y  train  \n"
          ]
        }
      ],
      "source": [
        "#print first 5 rows\n",
        "print('First 5 rows')\n",
        "print(df.head())"
      ]
    },
    {
      "cell_type": "code",
      "source": [
        "#print first 10 rows\n",
        "print('First 10 rows')\n",
        "print(df.head(10))"
      ],
      "metadata": {
        "colab": {
          "base_uri": "https://localhost:8080/"
        },
        "id": "JgJijomEEKjF",
        "outputId": "829581e2-f52c-4ab1-de00-d19bc3c21828"
      },
      "execution_count": null,
      "outputs": [
        {
          "output_type": "stream",
          "name": "stdout",
          "text": [
            "First 10 rows\n",
            "    Loan_ID Gender Married Dependents     Education Self_Employed  \\\n",
            "0  LP001002   Male      No          0      Graduate            No   \n",
            "1  LP001003   Male     Yes          1      Graduate            No   \n",
            "2  LP001005   Male     Yes          0      Graduate           Yes   \n",
            "3  LP001006   Male     Yes          0  Not Graduate            No   \n",
            "4  LP001008   Male      No          0      Graduate            No   \n",
            "5  LP001011   Male     Yes          2      Graduate           Yes   \n",
            "6  LP001013   Male     Yes          0  Not Graduate            No   \n",
            "7  LP001014   Male     Yes         3+      Graduate            No   \n",
            "8  LP001018   Male     Yes          2      Graduate            No   \n",
            "9  LP001020   Male     Yes          1      Graduate            No   \n",
            "\n",
            "   ApplicantIncome  CoapplicantIncome  LoanAmount  Loan_Amount_Term  \\\n",
            "0             5849                0.0         NaN             360.0   \n",
            "1             4583             1508.0       128.0             360.0   \n",
            "2             3000                0.0        66.0             360.0   \n",
            "3             2583             2358.0       120.0             360.0   \n",
            "4             6000                0.0       141.0             360.0   \n",
            "5             5417             4196.0       267.0             360.0   \n",
            "6             2333             1516.0        95.0             360.0   \n",
            "7             3036             2504.0       158.0             360.0   \n",
            "8             4006             1526.0       168.0             360.0   \n",
            "9            12841            10968.0       349.0             360.0   \n",
            "\n",
            "   Credit_History Property_Area Loan_Status source  \n",
            "0             1.0         Urban           Y  train  \n",
            "1             1.0         Rural           N  train  \n",
            "2             1.0         Urban           Y  train  \n",
            "3             1.0         Urban           Y  train  \n",
            "4             1.0         Urban           Y  train  \n",
            "5             1.0         Urban           Y  train  \n",
            "6             1.0         Urban           Y  train  \n",
            "7             0.0     Semiurban           N  train  \n",
            "8             1.0         Urban           Y  train  \n",
            "9             1.0     Semiurban           N  train  \n"
          ]
        }
      ]
    },
    {
      "cell_type": "code",
      "source": [
        "#print last 5 rows\n",
        "print('Last 5 rows')\n",
        "print(df.tail())"
      ],
      "metadata": {
        "colab": {
          "base_uri": "https://localhost:8080/"
        },
        "id": "braFU8tUEOPp",
        "outputId": "0e4b2860-9669-42db-afa2-6832bd85493e"
      },
      "execution_count": null,
      "outputs": [
        {
          "output_type": "stream",
          "name": "stdout",
          "text": [
            "Last 5 rows\n",
            "      Loan_ID  Gender Married Dependents Education Self_Employed  \\\n",
            "609  LP002978  Female      No          0  Graduate            No   \n",
            "610  LP002979    Male     Yes         3+  Graduate            No   \n",
            "611  LP002983    Male     Yes          1  Graduate            No   \n",
            "612  LP002984    Male     Yes          2  Graduate            No   \n",
            "613  LP002990  Female      No          0  Graduate           Yes   \n",
            "\n",
            "     ApplicantIncome  CoapplicantIncome  LoanAmount  Loan_Amount_Term  \\\n",
            "609             2900                0.0        71.0             360.0   \n",
            "610             4106                0.0        40.0             180.0   \n",
            "611             8072              240.0       253.0             360.0   \n",
            "612             7583                0.0       187.0             360.0   \n",
            "613             4583                0.0       133.0             360.0   \n",
            "\n",
            "     Credit_History Property_Area Loan_Status source  \n",
            "609             1.0         Rural           Y   test  \n",
            "610             1.0         Rural           Y   test  \n",
            "611             1.0         Urban           Y   test  \n",
            "612             1.0         Urban           Y   test  \n",
            "613             0.0     Semiurban           N   test  \n"
          ]
        }
      ]
    },
    {
      "cell_type": "markdown",
      "source": [
        "## 2. Exploratory Data Analysis (EDA)"
      ],
      "metadata": {
        "id": "7dSpSPacES4S"
      }
    },
    {
      "cell_type": "markdown",
      "source": [
        "\n",
        "Let's dig deeper & understand our data"
      ],
      "metadata": {
        "id": "5tinsgUZJ1TK"
      }
    },
    {
      "cell_type": "markdown",
      "source": [
        "####Let's check how many rows and columns we have in our dataset"
      ],
      "metadata": {
        "id": "ehBuh-waEUWl"
      }
    },
    {
      "cell_type": "code",
      "source": [
        "#get the number of rows and columns\n",
        "rows = df.shape[0]\n",
        "columns = df.shape[1]\n",
        "\n",
        "print('There are {} rows and {} columns.'.format(rows,columns))"
      ],
      "metadata": {
        "id": "OLEmwtmVEWfJ",
        "colab": {
          "base_uri": "https://localhost:8080/"
        },
        "outputId": "5f407219-2f8e-4a8f-b967-d53115c7c920"
      },
      "execution_count": null,
      "outputs": [
        {
          "output_type": "stream",
          "name": "stdout",
          "text": [
            "There are 614 rows and 14 columns.\n"
          ]
        }
      ]
    },
    {
      "cell_type": "markdown",
      "source": [
        "Now Let's use the info() function to check:\n",
        "\n",
        "The data types we have, if we have missing values, memory usage, and the number of rows and columns."
      ],
      "metadata": {
        "id": "L_PhGPxwEbGU"
      }
    },
    {
      "cell_type": "code",
      "source": [
        "print('Data info')\n",
        "print(df.info())"
      ],
      "metadata": {
        "id": "XzWhnFP7Ebgw",
        "colab": {
          "base_uri": "https://localhost:8080/"
        },
        "outputId": "1d51e43a-6ead-4c27-8a80-023c716cf3ad"
      },
      "execution_count": null,
      "outputs": [
        {
          "output_type": "stream",
          "name": "stdout",
          "text": [
            "Data info\n",
            "<class 'pandas.core.frame.DataFrame'>\n",
            "RangeIndex: 614 entries, 0 to 613\n",
            "Data columns (total 14 columns):\n",
            " #   Column             Non-Null Count  Dtype  \n",
            "---  ------             --------------  -----  \n",
            " 0   Loan_ID            614 non-null    object \n",
            " 1   Gender             601 non-null    object \n",
            " 2   Married            611 non-null    object \n",
            " 3   Dependents         599 non-null    object \n",
            " 4   Education          614 non-null    object \n",
            " 5   Self_Employed      582 non-null    object \n",
            " 6   ApplicantIncome    614 non-null    int64  \n",
            " 7   CoapplicantIncome  614 non-null    float64\n",
            " 8   LoanAmount         592 non-null    float64\n",
            " 9   Loan_Amount_Term   600 non-null    float64\n",
            " 10  Credit_History     564 non-null    float64\n",
            " 11  Property_Area      614 non-null    object \n",
            " 12  Loan_Status        614 non-null    object \n",
            " 13  source             614 non-null    object \n",
            "dtypes: float64(4), int64(1), object(9)\n",
            "memory usage: 67.3+ KB\n",
            "None\n"
          ]
        }
      ]
    },
    {
      "cell_type": "markdown",
      "source": [
        "So as total we have 614 rows and 14 columns, including both categorical and numerical variables.\n",
        "\n",
        "We have missing values in the columns: Gender, Married, Dependents, Self_Employed, LoanAmount, Loan_Amount_Term, and Credit_History.\n",
        "\n",
        "These missing values will be addressed in the cleaning phase before moving to analysis or modeling."
      ],
      "metadata": {
        "id": "E0pgRhsSEf9d"
      }
    },
    {
      "cell_type": "markdown",
      "source": [
        "Another thing we can check the mean, standard deviation, maximum, and minimum of each numerical feature (column ) using the describe() function."
      ],
      "metadata": {
        "id": "2OgQqOLaEglh"
      }
    },
    {
      "cell_type": "code",
      "source": [
        "df.describe()"
      ],
      "metadata": {
        "id": "PkE-vYZ8Ejmg",
        "colab": {
          "base_uri": "https://localhost:8080/",
          "height": 300
        },
        "outputId": "a7f00b93-1909-4eb6-9a9a-b42e8cb8dc97"
      },
      "execution_count": null,
      "outputs": [
        {
          "output_type": "execute_result",
          "data": {
            "text/plain": [
              "       ApplicantIncome  CoapplicantIncome  LoanAmount  Loan_Amount_Term  \\\n",
              "count       614.000000         614.000000  592.000000         600.00000   \n",
              "mean       5403.459283        1621.245798  146.412162         342.00000   \n",
              "std        6109.041673        2926.248369   85.587325          65.12041   \n",
              "min         150.000000           0.000000    9.000000          12.00000   \n",
              "25%        2877.500000           0.000000  100.000000         360.00000   \n",
              "50%        3812.500000        1188.500000  128.000000         360.00000   \n",
              "75%        5795.000000        2297.250000  168.000000         360.00000   \n",
              "max       81000.000000       41667.000000  700.000000         480.00000   \n",
              "\n",
              "       Credit_History  \n",
              "count      564.000000  \n",
              "mean         0.842199  \n",
              "std          0.364878  \n",
              "min          0.000000  \n",
              "25%          1.000000  \n",
              "50%          1.000000  \n",
              "75%          1.000000  \n",
              "max          1.000000  "
            ],
            "text/html": [
              "\n",
              "  <div id=\"df-f33d2d16-3905-4375-a2ea-1eccf926ff7c\" class=\"colab-df-container\">\n",
              "    <div>\n",
              "<style scoped>\n",
              "    .dataframe tbody tr th:only-of-type {\n",
              "        vertical-align: middle;\n",
              "    }\n",
              "\n",
              "    .dataframe tbody tr th {\n",
              "        vertical-align: top;\n",
              "    }\n",
              "\n",
              "    .dataframe thead th {\n",
              "        text-align: right;\n",
              "    }\n",
              "</style>\n",
              "<table border=\"1\" class=\"dataframe\">\n",
              "  <thead>\n",
              "    <tr style=\"text-align: right;\">\n",
              "      <th></th>\n",
              "      <th>ApplicantIncome</th>\n",
              "      <th>CoapplicantIncome</th>\n",
              "      <th>LoanAmount</th>\n",
              "      <th>Loan_Amount_Term</th>\n",
              "      <th>Credit_History</th>\n",
              "    </tr>\n",
              "  </thead>\n",
              "  <tbody>\n",
              "    <tr>\n",
              "      <th>count</th>\n",
              "      <td>614.000000</td>\n",
              "      <td>614.000000</td>\n",
              "      <td>592.000000</td>\n",
              "      <td>600.00000</td>\n",
              "      <td>564.000000</td>\n",
              "    </tr>\n",
              "    <tr>\n",
              "      <th>mean</th>\n",
              "      <td>5403.459283</td>\n",
              "      <td>1621.245798</td>\n",
              "      <td>146.412162</td>\n",
              "      <td>342.00000</td>\n",
              "      <td>0.842199</td>\n",
              "    </tr>\n",
              "    <tr>\n",
              "      <th>std</th>\n",
              "      <td>6109.041673</td>\n",
              "      <td>2926.248369</td>\n",
              "      <td>85.587325</td>\n",
              "      <td>65.12041</td>\n",
              "      <td>0.364878</td>\n",
              "    </tr>\n",
              "    <tr>\n",
              "      <th>min</th>\n",
              "      <td>150.000000</td>\n",
              "      <td>0.000000</td>\n",
              "      <td>9.000000</td>\n",
              "      <td>12.00000</td>\n",
              "      <td>0.000000</td>\n",
              "    </tr>\n",
              "    <tr>\n",
              "      <th>25%</th>\n",
              "      <td>2877.500000</td>\n",
              "      <td>0.000000</td>\n",
              "      <td>100.000000</td>\n",
              "      <td>360.00000</td>\n",
              "      <td>1.000000</td>\n",
              "    </tr>\n",
              "    <tr>\n",
              "      <th>50%</th>\n",
              "      <td>3812.500000</td>\n",
              "      <td>1188.500000</td>\n",
              "      <td>128.000000</td>\n",
              "      <td>360.00000</td>\n",
              "      <td>1.000000</td>\n",
              "    </tr>\n",
              "    <tr>\n",
              "      <th>75%</th>\n",
              "      <td>5795.000000</td>\n",
              "      <td>2297.250000</td>\n",
              "      <td>168.000000</td>\n",
              "      <td>360.00000</td>\n",
              "      <td>1.000000</td>\n",
              "    </tr>\n",
              "    <tr>\n",
              "      <th>max</th>\n",
              "      <td>81000.000000</td>\n",
              "      <td>41667.000000</td>\n",
              "      <td>700.000000</td>\n",
              "      <td>480.00000</td>\n",
              "      <td>1.000000</td>\n",
              "    </tr>\n",
              "  </tbody>\n",
              "</table>\n",
              "</div>\n",
              "    <div class=\"colab-df-buttons\">\n",
              "\n",
              "  <div class=\"colab-df-container\">\n",
              "    <button class=\"colab-df-convert\" onclick=\"convertToInteractive('df-f33d2d16-3905-4375-a2ea-1eccf926ff7c')\"\n",
              "            title=\"Convert this dataframe to an interactive table.\"\n",
              "            style=\"display:none;\">\n",
              "\n",
              "  <svg xmlns=\"http://www.w3.org/2000/svg\" height=\"24px\" viewBox=\"0 -960 960 960\">\n",
              "    <path d=\"M120-120v-720h720v720H120Zm60-500h600v-160H180v160Zm220 220h160v-160H400v160Zm0 220h160v-160H400v160ZM180-400h160v-160H180v160Zm440 0h160v-160H620v160ZM180-180h160v-160H180v160Zm440 0h160v-160H620v160Z\"/>\n",
              "  </svg>\n",
              "    </button>\n",
              "\n",
              "  <style>\n",
              "    .colab-df-container {\n",
              "      display:flex;\n",
              "      gap: 12px;\n",
              "    }\n",
              "\n",
              "    .colab-df-convert {\n",
              "      background-color: #E8F0FE;\n",
              "      border: none;\n",
              "      border-radius: 50%;\n",
              "      cursor: pointer;\n",
              "      display: none;\n",
              "      fill: #1967D2;\n",
              "      height: 32px;\n",
              "      padding: 0 0 0 0;\n",
              "      width: 32px;\n",
              "    }\n",
              "\n",
              "    .colab-df-convert:hover {\n",
              "      background-color: #E2EBFA;\n",
              "      box-shadow: 0px 1px 2px rgba(60, 64, 67, 0.3), 0px 1px 3px 1px rgba(60, 64, 67, 0.15);\n",
              "      fill: #174EA6;\n",
              "    }\n",
              "\n",
              "    .colab-df-buttons div {\n",
              "      margin-bottom: 4px;\n",
              "    }\n",
              "\n",
              "    [theme=dark] .colab-df-convert {\n",
              "      background-color: #3B4455;\n",
              "      fill: #D2E3FC;\n",
              "    }\n",
              "\n",
              "    [theme=dark] .colab-df-convert:hover {\n",
              "      background-color: #434B5C;\n",
              "      box-shadow: 0px 1px 3px 1px rgba(0, 0, 0, 0.15);\n",
              "      filter: drop-shadow(0px 1px 2px rgba(0, 0, 0, 0.3));\n",
              "      fill: #FFFFFF;\n",
              "    }\n",
              "  </style>\n",
              "\n",
              "    <script>\n",
              "      const buttonEl =\n",
              "        document.querySelector('#df-f33d2d16-3905-4375-a2ea-1eccf926ff7c button.colab-df-convert');\n",
              "      buttonEl.style.display =\n",
              "        google.colab.kernel.accessAllowed ? 'block' : 'none';\n",
              "\n",
              "      async function convertToInteractive(key) {\n",
              "        const element = document.querySelector('#df-f33d2d16-3905-4375-a2ea-1eccf926ff7c');\n",
              "        const dataTable =\n",
              "          await google.colab.kernel.invokeFunction('convertToInteractive',\n",
              "                                                    [key], {});\n",
              "        if (!dataTable) return;\n",
              "\n",
              "        const docLinkHtml = 'Like what you see? Visit the ' +\n",
              "          '<a target=\"_blank\" href=https://colab.research.google.com/notebooks/data_table.ipynb>data table notebook</a>'\n",
              "          + ' to learn more about interactive tables.';\n",
              "        element.innerHTML = '';\n",
              "        dataTable['output_type'] = 'display_data';\n",
              "        await google.colab.output.renderOutput(dataTable, element);\n",
              "        const docLink = document.createElement('div');\n",
              "        docLink.innerHTML = docLinkHtml;\n",
              "        element.appendChild(docLink);\n",
              "      }\n",
              "    </script>\n",
              "  </div>\n",
              "\n",
              "\n",
              "    <div id=\"df-0922667e-e768-408b-b532-da2e00b2ef18\">\n",
              "      <button class=\"colab-df-quickchart\" onclick=\"quickchart('df-0922667e-e768-408b-b532-da2e00b2ef18')\"\n",
              "                title=\"Suggest charts\"\n",
              "                style=\"display:none;\">\n",
              "\n",
              "<svg xmlns=\"http://www.w3.org/2000/svg\" height=\"24px\"viewBox=\"0 0 24 24\"\n",
              "     width=\"24px\">\n",
              "    <g>\n",
              "        <path d=\"M19 3H5c-1.1 0-2 .9-2 2v14c0 1.1.9 2 2 2h14c1.1 0 2-.9 2-2V5c0-1.1-.9-2-2-2zM9 17H7v-7h2v7zm4 0h-2V7h2v10zm4 0h-2v-4h2v4z\"/>\n",
              "    </g>\n",
              "</svg>\n",
              "      </button>\n",
              "\n",
              "<style>\n",
              "  .colab-df-quickchart {\n",
              "      --bg-color: #E8F0FE;\n",
              "      --fill-color: #1967D2;\n",
              "      --hover-bg-color: #E2EBFA;\n",
              "      --hover-fill-color: #174EA6;\n",
              "      --disabled-fill-color: #AAA;\n",
              "      --disabled-bg-color: #DDD;\n",
              "  }\n",
              "\n",
              "  [theme=dark] .colab-df-quickchart {\n",
              "      --bg-color: #3B4455;\n",
              "      --fill-color: #D2E3FC;\n",
              "      --hover-bg-color: #434B5C;\n",
              "      --hover-fill-color: #FFFFFF;\n",
              "      --disabled-bg-color: #3B4455;\n",
              "      --disabled-fill-color: #666;\n",
              "  }\n",
              "\n",
              "  .colab-df-quickchart {\n",
              "    background-color: var(--bg-color);\n",
              "    border: none;\n",
              "    border-radius: 50%;\n",
              "    cursor: pointer;\n",
              "    display: none;\n",
              "    fill: var(--fill-color);\n",
              "    height: 32px;\n",
              "    padding: 0;\n",
              "    width: 32px;\n",
              "  }\n",
              "\n",
              "  .colab-df-quickchart:hover {\n",
              "    background-color: var(--hover-bg-color);\n",
              "    box-shadow: 0 1px 2px rgba(60, 64, 67, 0.3), 0 1px 3px 1px rgba(60, 64, 67, 0.15);\n",
              "    fill: var(--button-hover-fill-color);\n",
              "  }\n",
              "\n",
              "  .colab-df-quickchart-complete:disabled,\n",
              "  .colab-df-quickchart-complete:disabled:hover {\n",
              "    background-color: var(--disabled-bg-color);\n",
              "    fill: var(--disabled-fill-color);\n",
              "    box-shadow: none;\n",
              "  }\n",
              "\n",
              "  .colab-df-spinner {\n",
              "    border: 2px solid var(--fill-color);\n",
              "    border-color: transparent;\n",
              "    border-bottom-color: var(--fill-color);\n",
              "    animation:\n",
              "      spin 1s steps(1) infinite;\n",
              "  }\n",
              "\n",
              "  @keyframes spin {\n",
              "    0% {\n",
              "      border-color: transparent;\n",
              "      border-bottom-color: var(--fill-color);\n",
              "      border-left-color: var(--fill-color);\n",
              "    }\n",
              "    20% {\n",
              "      border-color: transparent;\n",
              "      border-left-color: var(--fill-color);\n",
              "      border-top-color: var(--fill-color);\n",
              "    }\n",
              "    30% {\n",
              "      border-color: transparent;\n",
              "      border-left-color: var(--fill-color);\n",
              "      border-top-color: var(--fill-color);\n",
              "      border-right-color: var(--fill-color);\n",
              "    }\n",
              "    40% {\n",
              "      border-color: transparent;\n",
              "      border-right-color: var(--fill-color);\n",
              "      border-top-color: var(--fill-color);\n",
              "    }\n",
              "    60% {\n",
              "      border-color: transparent;\n",
              "      border-right-color: var(--fill-color);\n",
              "    }\n",
              "    80% {\n",
              "      border-color: transparent;\n",
              "      border-right-color: var(--fill-color);\n",
              "      border-bottom-color: var(--fill-color);\n",
              "    }\n",
              "    90% {\n",
              "      border-color: transparent;\n",
              "      border-bottom-color: var(--fill-color);\n",
              "    }\n",
              "  }\n",
              "</style>\n",
              "\n",
              "      <script>\n",
              "        async function quickchart(key) {\n",
              "          const quickchartButtonEl =\n",
              "            document.querySelector('#' + key + ' button');\n",
              "          quickchartButtonEl.disabled = true;  // To prevent multiple clicks.\n",
              "          quickchartButtonEl.classList.add('colab-df-spinner');\n",
              "          try {\n",
              "            const charts = await google.colab.kernel.invokeFunction(\n",
              "                'suggestCharts', [key], {});\n",
              "          } catch (error) {\n",
              "            console.error('Error during call to suggestCharts:', error);\n",
              "          }\n",
              "          quickchartButtonEl.classList.remove('colab-df-spinner');\n",
              "          quickchartButtonEl.classList.add('colab-df-quickchart-complete');\n",
              "        }\n",
              "        (() => {\n",
              "          let quickchartButtonEl =\n",
              "            document.querySelector('#df-0922667e-e768-408b-b532-da2e00b2ef18 button');\n",
              "          quickchartButtonEl.style.display =\n",
              "            google.colab.kernel.accessAllowed ? 'block' : 'none';\n",
              "        })();\n",
              "      </script>\n",
              "    </div>\n",
              "\n",
              "    </div>\n",
              "  </div>\n"
            ],
            "application/vnd.google.colaboratory.intrinsic+json": {
              "type": "dataframe",
              "summary": "{\n  \"name\": \"df\",\n  \"rows\": 8,\n  \"fields\": [\n    {\n      \"column\": \"ApplicantIncome\",\n      \"properties\": {\n        \"dtype\": \"number\",\n        \"std\": 27480.19432327756,\n        \"min\": 150.0,\n        \"max\": 81000.0,\n        \"num_unique_values\": 8,\n        \"samples\": [\n          5403.459283387622,\n          3812.5,\n          614.0\n        ],\n        \"semantic_type\": \"\",\n        \"description\": \"\"\n      }\n    },\n    {\n      \"column\": \"CoapplicantIncome\",\n      \"properties\": {\n        \"dtype\": \"number\",\n        \"std\": 14332.564053846478,\n        \"min\": 0.0,\n        \"max\": 41667.0,\n        \"num_unique_values\": 7,\n        \"samples\": [\n          614.0,\n          1621.2457980271008,\n          2297.25\n        ],\n        \"semantic_type\": \"\",\n        \"description\": \"\"\n      }\n    },\n    {\n      \"column\": \"LoanAmount\",\n      \"properties\": {\n        \"dtype\": \"number\",\n        \"std\": 256.0091610169859,\n        \"min\": 9.0,\n        \"max\": 700.0,\n        \"num_unique_values\": 8,\n        \"samples\": [\n          146.41216216216216,\n          128.0,\n          592.0\n        ],\n        \"semantic_type\": \"\",\n        \"description\": \"\"\n      }\n    },\n    {\n      \"column\": \"Loan_Amount_Term\",\n      \"properties\": {\n        \"dtype\": \"number\",\n        \"std\": 196.05608042946525,\n        \"min\": 12.0,\n        \"max\": 600.0,\n        \"num_unique_values\": 6,\n        \"samples\": [\n          600.0,\n          342.0,\n          480.0\n        ],\n        \"semantic_type\": \"\",\n        \"description\": \"\"\n      }\n    },\n    {\n      \"column\": \"Credit_History\",\n      \"properties\": {\n        \"dtype\": \"number\",\n        \"std\": 199.14146277938596,\n        \"min\": 0.0,\n        \"max\": 564.0,\n        \"num_unique_values\": 5,\n        \"samples\": [\n          0.8421985815602837,\n          1.0,\n          0.3648783192364049\n        ],\n        \"semantic_type\": \"\",\n        \"description\": \"\"\n      }\n    }\n  ]\n}"
            }
          },
          "metadata": {},
          "execution_count": 8
        }
      ]
    },
    {
      "cell_type": "markdown",
      "source": [
        "The minimum value, maximum value, mean, standard deviation, 25th percentile, median or 50th percentile and 75th percentile of each of the numerical columns are shown here. The other columns like Gender, married, education, self_employed, property area, loan status, and dependents need to be encoded for the model to understand what we're doing."
      ],
      "metadata": {
        "id": "ZCSgk9azEoBi"
      }
    },
    {
      "cell_type": "markdown",
      "source": [
        "###Check for Duplicate Rows"
      ],
      "metadata": {
        "id": "6dy8XDWUErR4"
      }
    },
    {
      "cell_type": "code",
      "source": [
        "#Check for duplicate rows\n",
        "print(\"Duplicate rows before removal:\", df.duplicated().sum())"
      ],
      "metadata": {
        "id": "YnWiYs4UErwm",
        "colab": {
          "base_uri": "https://localhost:8080/"
        },
        "outputId": "52a76e50-a2ed-4587-99ae-7fa4a208a047"
      },
      "execution_count": null,
      "outputs": [
        {
          "output_type": "stream",
          "name": "stdout",
          "text": [
            "Duplicate rows before removal: 0\n"
          ]
        }
      ]
    },
    {
      "cell_type": "markdown",
      "source": [
        "There is no duplicate rows in this dataset which is great. Every row is unique. So no data removal is required for duplication at this stage."
      ],
      "metadata": {
        "id": "6Xw8Nsk4Etoc"
      }
    },
    {
      "cell_type": "markdown",
      "source": [
        "###Check for Outliers"
      ],
      "metadata": {
        "id": "xme-pAsZEwze"
      }
    },
    {
      "cell_type": "code",
      "source": [
        "#Detect Outliers using IQR\n",
        "#define numeric columns to check\n",
        "numeric_cols = ['ApplicantIncome', 'CoapplicantIncome', 'LoanAmount']\n",
        "\n",
        "#Dictionary for outlier counts\n",
        "outlier_counts = {}\n",
        "\n",
        "for col in numeric_cols:\n",
        "    Q1 = df[col].quantile(0.25)\n",
        "    Q3 = df[col].quantile(0.75)\n",
        "    IQR = Q3 - Q1\n",
        "    lower = Q1 - 1.5 * IQR\n",
        "    upper = Q3 + 1.5 * IQR\n",
        "\n",
        "    #Count outliers\n",
        "    count = df[(df[col] < lower) | (df[col] > upper)].shape[0]\n",
        "    outlier_counts[col] = count\n",
        "\n",
        "#Print the outliers per column\n",
        "print(\"Outlier count per column (before removal):\")\n",
        "for col, count in outlier_counts.items():\n",
        "    print(f\"{col}: {count}\")"
      ],
      "metadata": {
        "id": "KiFgPkMWEzeh",
        "colab": {
          "base_uri": "https://localhost:8080/"
        },
        "outputId": "0a162450-03cc-4ff0-c41f-766ee055ef7d"
      },
      "execution_count": null,
      "outputs": [
        {
          "output_type": "stream",
          "name": "stdout",
          "text": [
            "Outlier count per column (before removal):\n",
            "ApplicantIncome: 50\n",
            "CoapplicantIncome: 18\n",
            "LoanAmount: 39\n"
          ]
        }
      ]
    },
    {
      "cell_type": "code",
      "source": [
        "#Boxplot to visualize outliers\n",
        "import seaborn as sns\n",
        "for col in numeric_cols:\n",
        "    plt.figure(figsize=(6, 3))\n",
        "    sns.boxplot(x=df[col])\n",
        "    plt.title(f'Boxplot for {col} (Before Outlier Removal)')\n",
        "    plt.show()"
      ],
      "metadata": {
        "id": "3ipWJWu-E49Y",
        "colab": {
          "base_uri": "https://localhost:8080/",
          "height": 965
        },
        "outputId": "74e2b2f1-52b9-40b3-f4fa-f9cb975532a2"
      },
      "execution_count": null,
      "outputs": [
        {
          "output_type": "display_data",
          "data": {
            "text/plain": [
              "<Figure size 600x300 with 1 Axes>"
            ],
            "image/png": "[encoded data removed]"
          },
          "metadata": {}
        },
        {
          "output_type": "display_data",
          "data": {
            "text/plain": [
              "<Figure size 600x300 with 1 Axes>"
            ],
            "image/png": "[encoded data removed]"
          },
          "metadata": {}
        },
        {
          "output_type": "display_data",
          "data": {
            "text/plain": [
              "<Figure size 600x300 with 1 Axes>"
            ],
            "image/png": "[encoded data removed]"
          },
          "metadata": {}
        }
      ]
    },
    {
      "cell_type": "markdown",
      "source": [
        "The boxplots for ApplicantIncome, CoapplicantIncome, and LoanAmount reveal that there are significant outliers in all these numerical features.\n",
        "\n",
        "1- In ApplicantIncome, a few values are > 80,000, while the majority of applicants earn < 20,000.\n",
        "\n",
        "2- CoapplicantIncome also contains visible outliers, with some incomes > 40,000.\n",
        "\n",
        "3- LoanAmount shows extreme values > 500, even though most loans fall below 200.\n",
        "\n",
        "So we need to remove these outliers because they will skew model performance especially in models sensitive to scale and variance like the one we are going to use which is logistic regression."
      ],
      "metadata": {
        "id": "fFz7SURAE1tn"
      }
    },
    {
      "cell_type": "code",
      "source": [
        "#remove the outliers using IQR method\n",
        "for col in numeric_cols:\n",
        "    Q1 = df[col].quantile(0.25)\n",
        "    Q3 = df[col].quantile(0.75)\n",
        "    IQR = Q3 - Q1\n",
        "    lower = Q1 - 1.5 * IQR\n",
        "    upper = Q3 + 1.5 * IQR\n",
        "    df = df[(df[col] >= lower) & (df[col] <= upper)]\n",
        "\n",
        "print(\"Outliers removed.\")"
      ],
      "metadata": {
        "id": "_rmX2eUUE_xa",
        "colab": {
          "base_uri": "https://localhost:8080/"
        },
        "outputId": "433a96cd-8ee6-4030-eb5f-8d6a112cc401"
      },
      "execution_count": null,
      "outputs": [
        {
          "output_type": "stream",
          "name": "stdout",
          "text": [
            "Outliers removed.\n"
          ]
        }
      ]
    },
    {
      "cell_type": "code",
      "source": [
        "print(\"Remaining rows after outlier removal:\", df.shape[0]) #double check"
      ],
      "metadata": {
        "id": "TWXQBhPkFCQn",
        "colab": {
          "base_uri": "https://localhost:8080/"
        },
        "outputId": "088431d2-222d-4f90-d3cc-d4ed6bbf1cf8"
      },
      "execution_count": null,
      "outputs": [
        {
          "output_type": "stream",
          "name": "stdout",
          "text": [
            "Remaining rows after outlier removal: 502\n"
          ]
        }
      ]
    },
    {
      "cell_type": "markdown",
      "source": [
        "So all is good now. Outliers are successfully removed."
      ],
      "metadata": {
        "id": "lxA7NA-sLDP-"
      }
    },
    {
      "cell_type": "markdown",
      "source": [
        "###Check missing values per column"
      ],
      "metadata": {
        "id": "rScDqxNGFGpi"
      }
    },
    {
      "cell_type": "code",
      "source": [
        "print('missing values per column')\n",
        "print(df.isnull().sum())"
      ],
      "metadata": {
        "id": "nG-DTsEKFCfu",
        "colab": {
          "base_uri": "https://localhost:8080/"
        },
        "outputId": "ff70c6fa-79ae-410f-9ce6-163cb582a6ea"
      },
      "execution_count": null,
      "outputs": [
        {
          "output_type": "stream",
          "name": "stdout",
          "text": [
            "missing values per column\n",
            "Loan_ID               0\n",
            "Gender                9\n",
            "Married               2\n",
            "Dependents           13\n",
            "Education             0\n",
            "Self_Employed        27\n",
            "ApplicantIncome       0\n",
            "CoapplicantIncome     0\n",
            "LoanAmount            0\n",
            "Loan_Amount_Term     14\n",
            "Credit_History       40\n",
            "Property_Area         0\n",
            "Loan_Status           0\n",
            "source                0\n",
            "dtype: int64\n"
          ]
        }
      ]
    },
    {
      "cell_type": "markdown",
      "source": [
        "We have missing values in the columns: Gender, Married, Dependents, Self_Employed, Loan_Amount_Term, and Credit_History."
      ],
      "metadata": {
        "id": "EgYlqK5eFNv8"
      }
    },
    {
      "cell_type": "markdown",
      "source": [
        "# 3. Data Exploration and Preparation"
      ],
      "metadata": {
        "id": "Oa4mDIGpFOXH"
      }
    },
    {
      "cell_type": "markdown",
      "source": [
        "## Cleaning the data"
      ],
      "metadata": {
        "id": "267I-_s0FQhZ"
      }
    },
    {
      "cell_type": "markdown",
      "source": [
        "###Handling missing values"
      ],
      "metadata": {
        "id": "-xgSX7heFSGL"
      }
    },
    {
      "cell_type": "markdown",
      "source": [
        "Several categorical features in the dataset contain missing values.\n",
        "\n",
        "So we need to handle these missing values, as many machine learning models can't work with incomplete data and may be biased by how missing values are distributed."
      ],
      "metadata": {
        "id": "iVR8VXDLFUNq"
      }
    },
    {
      "cell_type": "code",
      "source": [
        "#Filling missing values with mode\n",
        "#gender, married, dependents, self_employed are categorical variables we can fill their missing values with mode\n",
        "#Loan_Amount_Term and Credit_History are numerical but Loan_Amount_Term is discrete and Credit_History is binary so we can fill\n",
        "#their missing values with mode\n",
        "\n",
        "# Fill categorical missing values with mode\n",
        "df['Gender'].fillna(df['Gender'].mode()[0], inplace=True)\n",
        "df['Married'].fillna(df['Married'].mode()[0], inplace=True)\n",
        "df['Dependents'].fillna(df['Dependents'].mode()[0], inplace=True)\n",
        "df['Self_Employed'].fillna(df['Self_Employed'].mode()[0], inplace=True)\n",
        "print(df.isnull().sum())"
      ],
      "metadata": {
        "id": "2NdAXjiRFXEo",
        "colab": {
          "base_uri": "https://localhost:8080/"
        },
        "outputId": "4732302a-59ca-473f-bc26-7b7f26cf3045"
      },
      "execution_count": null,
      "outputs": [
        {
          "output_type": "stream",
          "name": "stdout",
          "text": [
            "Loan_ID               0\n",
            "Gender                0\n",
            "Married               0\n",
            "Dependents            0\n",
            "Education             0\n",
            "Self_Employed         0\n",
            "ApplicantIncome       0\n",
            "CoapplicantIncome     0\n",
            "LoanAmount            0\n",
            "Loan_Amount_Term     14\n",
            "Credit_History       40\n",
            "Property_Area         0\n",
            "Loan_Status           0\n",
            "source                0\n",
            "dtype: int64\n"
          ]
        },
        {
          "output_type": "stream",
          "name": "stderr",
          "text": [
            "<ipython-input-15-0561282fdce5>:7: FutureWarning: A value is trying to be set on a copy of a DataFrame or Series through chained assignment using an inplace method.\n",
            "The behavior will change in pandas 3.0. This inplace method will never work because the intermediate object on which we are setting values always behaves as a copy.\n",
            "\n",
            "For example, when doing 'df[col].method(value, inplace=True)', try using 'df.method({col: value}, inplace=True)' or df[col] = df[col].method(value) instead, to perform the operation inplace on the original object.\n",
            "\n",
            "\n",
            "  df['Gender'].fillna(df['Gender'].mode()[0], inplace=True)\n",
            "<ipython-input-15-0561282fdce5>:8: FutureWarning: A value is trying to be set on a copy of a DataFrame or Series through chained assignment using an inplace method.\n",
            "The behavior will change in pandas 3.0. This inplace method will never work because the intermediate object on which we are setting values always behaves as a copy.\n",
            "\n",
            "For example, when doing 'df[col].method(value, inplace=True)', try using 'df.method({col: value}, inplace=True)' or df[col] = df[col].method(value) instead, to perform the operation inplace on the original object.\n",
            "\n",
            "\n",
            "  df['Married'].fillna(df['Married'].mode()[0], inplace=True)\n",
            "<ipython-input-15-0561282fdce5>:9: FutureWarning: A value is trying to be set on a copy of a DataFrame or Series through chained assignment using an inplace method.\n",
            "The behavior will change in pandas 3.0. This inplace method will never work because the intermediate object on which we are setting values always behaves as a copy.\n",
            "\n",
            "For example, when doing 'df[col].method(value, inplace=True)', try using 'df.method({col: value}, inplace=True)' or df[col] = df[col].method(value) instead, to perform the operation inplace on the original object.\n",
            "\n",
            "\n",
            "  df['Dependents'].fillna(df['Dependents'].mode()[0], inplace=True)\n",
            "<ipython-input-15-0561282fdce5>:10: FutureWarning: A value is trying to be set on a copy of a DataFrame or Series through chained assignment using an inplace method.\n",
            "The behavior will change in pandas 3.0. This inplace method will never work because the intermediate object on which we are setting values always behaves as a copy.\n",
            "\n",
            "For example, when doing 'df[col].method(value, inplace=True)', try using 'df.method({col: value}, inplace=True)' or df[col] = df[col].method(value) instead, to perform the operation inplace on the original object.\n",
            "\n",
            "\n",
            "  df['Self_Employed'].fillna(df['Self_Employed'].mode()[0], inplace=True)\n"
          ]
        }
      ]
    },
    {
      "cell_type": "code",
      "source": [
        "#Fill Loan_Amount_Term and Credit_History with mode (are kind of categorial also not numerical)\n",
        "df['Loan_Amount_Term'].fillna(df['Loan_Amount_Term'].mode()[0], inplace=True)\n",
        "df['Credit_History'].fillna(df['Credit_History'].mode()[0], inplace=True)\n",
        "print(df.isnull().sum())"
      ],
      "metadata": {
        "id": "FeMFX08AFbG9",
        "colab": {
          "base_uri": "https://localhost:8080/"
        },
        "outputId": "e55a7720-6064-41d2-a279-0d0b3f1e99f8"
      },
      "execution_count": null,
      "outputs": [
        {
          "output_type": "stream",
          "name": "stdout",
          "text": [
            "Loan_ID              0\n",
            "Gender               0\n",
            "Married              0\n",
            "Dependents           0\n",
            "Education            0\n",
            "Self_Employed        0\n",
            "ApplicantIncome      0\n",
            "CoapplicantIncome    0\n",
            "LoanAmount           0\n",
            "Loan_Amount_Term     0\n",
            "Credit_History       0\n",
            "Property_Area        0\n",
            "Loan_Status          0\n",
            "source               0\n",
            "dtype: int64\n"
          ]
        },
        {
          "output_type": "stream",
          "name": "stderr",
          "text": [
            "<ipython-input-16-aee30f16cbae>:2: FutureWarning: A value is trying to be set on a copy of a DataFrame or Series through chained assignment using an inplace method.\n",
            "The behavior will change in pandas 3.0. This inplace method will never work because the intermediate object on which we are setting values always behaves as a copy.\n",
            "\n",
            "For example, when doing 'df[col].method(value, inplace=True)', try using 'df.method({col: value}, inplace=True)' or df[col] = df[col].method(value) instead, to perform the operation inplace on the original object.\n",
            "\n",
            "\n",
            "  df['Loan_Amount_Term'].fillna(df['Loan_Amount_Term'].mode()[0], inplace=True)\n",
            "<ipython-input-16-aee30f16cbae>:3: FutureWarning: A value is trying to be set on a copy of a DataFrame or Series through chained assignment using an inplace method.\n",
            "The behavior will change in pandas 3.0. This inplace method will never work because the intermediate object on which we are setting values always behaves as a copy.\n",
            "\n",
            "For example, when doing 'df[col].method(value, inplace=True)', try using 'df.method({col: value}, inplace=True)' or df[col] = df[col].method(value) instead, to perform the operation inplace on the original object.\n",
            "\n",
            "\n",
            "  df['Credit_History'].fillna(df['Credit_History'].mode()[0], inplace=True)\n"
          ]
        }
      ]
    },
    {
      "cell_type": "code",
      "source": [
        "print(df.isnull().sum()) #check if all missing values are filled now"
      ],
      "metadata": {
        "id": "n--ISzCfFeNB",
        "colab": {
          "base_uri": "https://localhost:8080/"
        },
        "outputId": "e8590fb7-f137-4ac9-cefc-6f3c32fa8ac4"
      },
      "execution_count": null,
      "outputs": [
        {
          "output_type": "stream",
          "name": "stdout",
          "text": [
            "Loan_ID              0\n",
            "Gender               0\n",
            "Married              0\n",
            "Dependents           0\n",
            "Education            0\n",
            "Self_Employed        0\n",
            "ApplicantIncome      0\n",
            "CoapplicantIncome    0\n",
            "LoanAmount           0\n",
            "Loan_Amount_Term     0\n",
            "Credit_History       0\n",
            "Property_Area        0\n",
            "Loan_Status          0\n",
            "source               0\n",
            "dtype: int64\n"
          ]
        }
      ]
    },
    {
      "cell_type": "markdown",
      "source": [
        "Now, we're okay. There is no more missing values."
      ],
      "metadata": {
        "id": "isDkvi0yFhyr"
      }
    },
    {
      "cell_type": "markdown",
      "source": [
        "###Encoding Binary Categorical Variables"
      ],
      "metadata": {
        "id": "nYGweA9VFiP7"
      }
    },
    {
      "cell_type": "code",
      "source": [
        "#convert the Loan_Status column from Y / N to numerical format 1 / 0 similarly for the other columns\n",
        "df['Loan_Status'] = df['Loan_Status'].map({'Y':1, 'N':0})\n",
        "df['Gender'] = df['Gender'].map({'Male':1, 'Female':0})\n",
        "df['Married'] = df['Married'].map({'Yes':1, 'No':0})\n",
        "df['Education'] = df['Education'].map({'Graduate':1, 'Not Graduate':0})\n",
        "df['Self_Employed'] = df['Self_Employed'].map({'Yes':1, 'No':0})\n",
        "df['Property_Area'] = df['Property_Area'].map({'Urban':2, 'Semiurban':1, 'Rural':0})\n",
        "print(df)"
      ],
      "metadata": {
        "id": "BkjM1ZX1FkGa",
        "colab": {
          "base_uri": "https://localhost:8080/"
        },
        "outputId": "27caf631-5243-4040-8f8a-f4a11579dceb"
      },
      "execution_count": null,
      "outputs": [
        {
          "output_type": "stream",
          "name": "stdout",
          "text": [
            "      Loan_ID  Gender  Married Dependents  Education  Self_Employed  \\\n",
            "1    LP001003       1        1          1          1              0   \n",
            "2    LP001005       1        1          0          1              1   \n",
            "3    LP001006       1        1          0          0              0   \n",
            "4    LP001008       1        0          0          1              0   \n",
            "6    LP001013       1        1          0          0              0   \n",
            "..        ...     ...      ...        ...        ...            ...   \n",
            "608  LP002974       1        1          0          1              0   \n",
            "609  LP002978       0        0          0          1              0   \n",
            "610  LP002979       1        1         3+          1              0   \n",
            "612  LP002984       1        1          2          1              0   \n",
            "613  LP002990       0        0          0          1              1   \n",
            "\n",
            "     ApplicantIncome  CoapplicantIncome  LoanAmount  Loan_Amount_Term  \\\n",
            "1               4583             1508.0       128.0             360.0   \n",
            "2               3000                0.0        66.0             360.0   \n",
            "3               2583             2358.0       120.0             360.0   \n",
            "4               6000                0.0       141.0             360.0   \n",
            "6               2333             1516.0        95.0             360.0   \n",
            "..               ...                ...         ...               ...   \n",
            "608             3232             1950.0       108.0             360.0   \n",
            "609             2900                0.0        71.0             360.0   \n",
            "610             4106                0.0        40.0             180.0   \n",
            "612             7583                0.0       187.0             360.0   \n",
            "613             4583                0.0       133.0             360.0   \n",
            "\n",
            "     Credit_History  Property_Area  Loan_Status source  \n",
            "1               1.0              0            0  train  \n",
            "2               1.0              2            1  train  \n",
            "3               1.0              2            1  train  \n",
            "4               1.0              2            1  train  \n",
            "6               1.0              2            1  train  \n",
            "..              ...            ...          ...    ...  \n",
            "608             1.0              0            1   test  \n",
            "609             1.0              0            1   test  \n",
            "610             1.0              0            1   test  \n",
            "612             1.0              2            1   test  \n",
            "613             0.0              1            0   test  \n",
            "\n",
            "[502 rows x 14 columns]\n"
          ]
        }
      ]
    },
    {
      "cell_type": "markdown",
      "source": [
        "###One-Hot Encoding for Multi-Category Features"
      ],
      "metadata": {
        "id": "IlxKTgooFo-f"
      }
    },
    {
      "cell_type": "code",
      "source": [
        "#for dependents feature - will use one-hot encoding since it has 0,1,2,3+ so 4 categories so better to use one-hot encoding in this case\n",
        "df = pd.get_dummies(df, columns=['Dependents'], prefix='Dep', drop_first=True)\n",
        "print(df)"
      ],
      "metadata": {
        "id": "JqNPnBH9FpSo",
        "colab": {
          "base_uri": "https://localhost:8080/"
        },
        "outputId": "e5bb554b-ef4a-4cd7-e8e8-6d53f4e936ff"
      },
      "execution_count": null,
      "outputs": [
        {
          "output_type": "stream",
          "name": "stdout",
          "text": [
            "      Loan_ID  Gender  Married  Education  Self_Employed  ApplicantIncome  \\\n",
            "1    LP001003       1        1          1              0             4583   \n",
            "2    LP001005       1        1          1              1             3000   \n",
            "3    LP001006       1        1          0              0             2583   \n",
            "4    LP001008       1        0          1              0             6000   \n",
            "6    LP001013       1        1          0              0             2333   \n",
            "..        ...     ...      ...        ...            ...              ...   \n",
            "608  LP002974       1        1          1              0             3232   \n",
            "609  LP002978       0        0          1              0             2900   \n",
            "610  LP002979       1        1          1              0             4106   \n",
            "612  LP002984       1        1          1              0             7583   \n",
            "613  LP002990       0        0          1              1             4583   \n",
            "\n",
            "     CoapplicantIncome  LoanAmount  Loan_Amount_Term  Credit_History  \\\n",
            "1               1508.0       128.0             360.0             1.0   \n",
            "2                  0.0        66.0             360.0             1.0   \n",
            "3               2358.0       120.0             360.0             1.0   \n",
            "4                  0.0       141.0             360.0             1.0   \n",
            "6               1516.0        95.0             360.0             1.0   \n",
            "..                 ...         ...               ...             ...   \n",
            "608             1950.0       108.0             360.0             1.0   \n",
            "609                0.0        71.0             360.0             1.0   \n",
            "610                0.0        40.0             180.0             1.0   \n",
            "612                0.0       187.0             360.0             1.0   \n",
            "613                0.0       133.0             360.0             0.0   \n",
            "\n",
            "     Property_Area  Loan_Status source  Dep_1  Dep_2  Dep_3+  \n",
            "1                0            0  train   True  False   False  \n",
            "2                2            1  train  False  False   False  \n",
            "3                2            1  train  False  False   False  \n",
            "4                2            1  train  False  False   False  \n",
            "6                2            1  train  False  False   False  \n",
            "..             ...          ...    ...    ...    ...     ...  \n",
            "608              0            1   test  False  False   False  \n",
            "609              0            1   test  False  False   False  \n",
            "610              0            1   test  False  False    True  \n",
            "612              2            1   test  False   True   False  \n",
            "613              1            0   test  False  False   False  \n",
            "\n",
            "[502 rows x 16 columns]\n"
          ]
        }
      ]
    },
    {
      "cell_type": "markdown",
      "source": [
        "Binary categorical features such as Loan_Status, Gender, and Married were encoded using manual mapping with the map() function.\n",
        "\n",
        "The Dependents feature, which includes 4 different categories (0, 1, 2, 3+), was encoded using one-hot encoding to preserve category independence without assuming any order."
      ],
      "metadata": {
        "id": "KDt5RcmjFt-1"
      }
    },
    {
      "cell_type": "markdown",
      "source": [
        "# 4. Create new features"
      ],
      "metadata": {
        "id": "maJWorMTFz3N"
      }
    },
    {
      "cell_type": "markdown",
      "source": [
        "We can create a new feature which is:\n",
        "\n",
        "**Total Income**\n",
        "\n",
        "Total Income = ApplicantIncome + CoapplicantIncome\n",
        "\n",
        "Lenders assess total family income, not just the applicant’s income. This feature strongly correlates with loan repayment ability."
      ],
      "metadata": {
        "id": "s6aL5yuNFx8D"
      }
    },
    {
      "cell_type": "code",
      "source": [
        "df['Total_Income'] = df['ApplicantIncome'] + df['CoapplicantIncome']"
      ],
      "metadata": {
        "id": "kvXumt5oF2D4"
      },
      "execution_count": null,
      "outputs": []
    },
    {
      "cell_type": "code",
      "source": [
        "print(df.head())"
      ],
      "metadata": {
        "id": "wMfn2n7jF5Rx",
        "colab": {
          "base_uri": "https://localhost:8080/"
        },
        "outputId": "034eee3f-3737-40e2-9d76-120c04e512de"
      },
      "execution_count": null,
      "outputs": [
        {
          "output_type": "stream",
          "name": "stdout",
          "text": [
            "    Loan_ID  Gender  Married  Education  Self_Employed  ApplicantIncome  \\\n",
            "1  LP001003       1        1          1              0             4583   \n",
            "2  LP001005       1        1          1              1             3000   \n",
            "3  LP001006       1        1          0              0             2583   \n",
            "4  LP001008       1        0          1              0             6000   \n",
            "6  LP001013       1        1          0              0             2333   \n",
            "\n",
            "   CoapplicantIncome  LoanAmount  Loan_Amount_Term  Credit_History  \\\n",
            "1             1508.0       128.0             360.0             1.0   \n",
            "2                0.0        66.0             360.0             1.0   \n",
            "3             2358.0       120.0             360.0             1.0   \n",
            "4                0.0       141.0             360.0             1.0   \n",
            "6             1516.0        95.0             360.0             1.0   \n",
            "\n",
            "   Property_Area  Loan_Status source  Dep_1  Dep_2  Dep_3+  Total_Income  \n",
            "1              0            0  train   True  False   False        6091.0  \n",
            "2              2            1  train  False  False   False        3000.0  \n",
            "3              2            1  train  False  False   False        4941.0  \n",
            "4              2            1  train  False  False   False        6000.0  \n",
            "6              2            1  train  False  False   False        3849.0  \n"
          ]
        }
      ]
    },
    {
      "cell_type": "markdown",
      "source": [
        " Also we will create:\n",
        "\n",
        "  **EMI** **(Estimated Monthly Installment)**\n",
        "\n",
        "\n",
        " EMI directly impacts affordability, high EMI relative to income may lead to loan rejection."
      ],
      "metadata": {
        "id": "X-AvRVC0F6m0"
      }
    },
    {
      "cell_type": "code",
      "source": [
        "df['EMI'] = df['LoanAmount'] / df['Loan_Amount_Term']"
      ],
      "metadata": {
        "id": "jnIeuVDNF-DT"
      },
      "execution_count": null,
      "outputs": []
    },
    {
      "cell_type": "code",
      "source": [
        "print(df.head())"
      ],
      "metadata": {
        "id": "Z7Ufczb7GAqY",
        "colab": {
          "base_uri": "https://localhost:8080/"
        },
        "outputId": "26992f52-2ba7-4b82-8291-d53e2430bcc9"
      },
      "execution_count": null,
      "outputs": [
        {
          "output_type": "stream",
          "name": "stdout",
          "text": [
            "    Loan_ID  Gender  Married  Education  Self_Employed  ApplicantIncome  \\\n",
            "1  LP001003       1        1          1              0             4583   \n",
            "2  LP001005       1        1          1              1             3000   \n",
            "3  LP001006       1        1          0              0             2583   \n",
            "4  LP001008       1        0          1              0             6000   \n",
            "6  LP001013       1        1          0              0             2333   \n",
            "\n",
            "   CoapplicantIncome  LoanAmount  Loan_Amount_Term  Credit_History  \\\n",
            "1             1508.0       128.0             360.0             1.0   \n",
            "2                0.0        66.0             360.0             1.0   \n",
            "3             2358.0       120.0             360.0             1.0   \n",
            "4                0.0       141.0             360.0             1.0   \n",
            "6             1516.0        95.0             360.0             1.0   \n",
            "\n",
            "   Property_Area  Loan_Status source  Dep_1  Dep_2  Dep_3+  Total_Income  \\\n",
            "1              0            0  train   True  False   False        6091.0   \n",
            "2              2            1  train  False  False   False        3000.0   \n",
            "3              2            1  train  False  False   False        4941.0   \n",
            "4              2            1  train  False  False   False        6000.0   \n",
            "6              2            1  train  False  False   False        3849.0   \n",
            "\n",
            "        EMI  \n",
            "1  0.355556  \n",
            "2  0.183333  \n",
            "3  0.333333  \n",
            "4  0.391667  \n",
            "6  0.263889  \n"
          ]
        }
      ]
    },
    {
      "cell_type": "markdown",
      "source": [
        "We will also create the variable:\n",
        "\n",
        "**Loan to Income Ratio**\n",
        "\n",
        "This ratio helps assess risk. A higher ratio = more financial burden = less chance of approval."
      ],
      "metadata": {
        "id": "QzvaVPHcGCN0"
      }
    },
    {
      "cell_type": "code",
      "source": [
        "df['Loan_Income_Ratio'] = df['LoanAmount'] / df['Total_Income']"
      ],
      "metadata": {
        "id": "crxmUItUGFD5"
      },
      "execution_count": null,
      "outputs": []
    },
    {
      "cell_type": "code",
      "source": [
        "print(df.head())"
      ],
      "metadata": {
        "id": "j7ER5AQHGG_M",
        "colab": {
          "base_uri": "https://localhost:8080/"
        },
        "outputId": "df0c9fe1-4147-4982-949a-db2761761b98"
      },
      "execution_count": null,
      "outputs": [
        {
          "output_type": "stream",
          "name": "stdout",
          "text": [
            "    Loan_ID  Gender  Married  Education  Self_Employed  ApplicantIncome  \\\n",
            "1  LP001003       1        1          1              0             4583   \n",
            "2  LP001005       1        1          1              1             3000   \n",
            "3  LP001006       1        1          0              0             2583   \n",
            "4  LP001008       1        0          1              0             6000   \n",
            "6  LP001013       1        1          0              0             2333   \n",
            "\n",
            "   CoapplicantIncome  LoanAmount  Loan_Amount_Term  Credit_History  \\\n",
            "1             1508.0       128.0             360.0             1.0   \n",
            "2                0.0        66.0             360.0             1.0   \n",
            "3             2358.0       120.0             360.0             1.0   \n",
            "4                0.0       141.0             360.0             1.0   \n",
            "6             1516.0        95.0             360.0             1.0   \n",
            "\n",
            "   Property_Area  Loan_Status source  Dep_1  Dep_2  Dep_3+  Total_Income  \\\n",
            "1              0            0  train   True  False   False        6091.0   \n",
            "2              2            1  train  False  False   False        3000.0   \n",
            "3              2            1  train  False  False   False        4941.0   \n",
            "4              2            1  train  False  False   False        6000.0   \n",
            "6              2            1  train  False  False   False        3849.0   \n",
            "\n",
            "        EMI  Loan_Income_Ratio  \n",
            "1  0.355556           0.021015  \n",
            "2  0.183333           0.022000  \n",
            "3  0.333333           0.024287  \n",
            "4  0.391667           0.023500  \n",
            "6  0.263889           0.024682  \n"
          ]
        }
      ]
    },
    {
      "cell_type": "markdown",
      "source": [
        " ## 5. Data Exploration - Some Visualizations"
      ],
      "metadata": {
        "id": "AIZ3YHr1GKWo"
      }
    },
    {
      "cell_type": "code",
      "source": [
        "#import needed libraries\n",
        "import seaborn as sns\n",
        "import matplotlib.pyplot as plt"
      ],
      "metadata": {
        "id": "oMEU5bpNGKwp"
      },
      "execution_count": null,
      "outputs": []
    },
    {
      "cell_type": "markdown",
      "source": [
        "**Loan Status Count**"
      ],
      "metadata": {
        "id": "XfF5sKOLGMa4"
      }
    },
    {
      "cell_type": "code",
      "source": [
        "#Loan Status Count - Bar chart\n",
        "plt.figure(figsize=(6, 4))\n",
        "df['Loan_Status'].value_counts().plot(kind='bar')\n",
        "plt.title('Loan Status Count')\n",
        "plt.xlabel('Loan Status')\n",
        "plt.ylabel('Count')\n",
        "plt.xticks(rotation=0, ha='center')\n",
        "plt.show()"
      ],
      "metadata": {
        "id": "1P2QC5E5GN88",
        "colab": {
          "base_uri": "https://localhost:8080/",
          "height": 410
        },
        "outputId": "84440424-3f7b-44c4-fc53-5ac5f59e64c2"
      },
      "execution_count": null,
      "outputs": [
        {
          "output_type": "display_data",
          "data": {
            "text/plain": [
              "<Figure size 600x400 with 1 Axes>"
            ],
            "image/png": "[encoded data removed]"
          },
          "metadata": {}
        }
      ]
    },
    {
      "cell_type": "markdown",
      "source": [
        "The bar graph shows clearly that a large number of applicants (approximately 350) had their loans approaved compared to those whose loans were rejected (approximately 150).\n",
        "\n",
        "This indicates a class imbalance in the target variable, which may need to be considered during model training and evaluation."
      ],
      "metadata": {
        "id": "RinVL19zGSqY"
      }
    },
    {
      "cell_type": "markdown",
      "source": [
        "**Loan Status by Credit History**"
      ],
      "metadata": {
        "id": "EhYVyQNNGTAZ"
      }
    },
    {
      "cell_type": "code",
      "source": [
        "#Loan Status by Credit History - Grouped bar chart\n",
        "credit_loan = pd.crosstab(df['Credit_History'], df['Loan_Status'])\n",
        "credit_loan.plot(kind='bar', figsize=(6, 4))\n",
        "plt.title('Loan Status by Credit History')\n",
        "plt.xlabel('Credit History')\n",
        "plt.ylabel('Count')\n",
        "plt.xticks(rotation=0, ha='center')\n",
        "plt.show()"
      ],
      "metadata": {
        "id": "tvX7RJXHGU6-",
        "colab": {
          "base_uri": "https://localhost:8080/",
          "height": 410
        },
        "outputId": "89dadc61-bd16-490d-b5aa-5637d719c781"
      },
      "execution_count": null,
      "outputs": [
        {
          "output_type": "display_data",
          "data": {
            "text/plain": [
              "<Figure size 600x400 with 1 Axes>"
            ],
            "image/png": "[encoded data removed]"
          },
          "metadata": {}
        }
      ]
    },
    {
      "cell_type": "markdown",
      "source": [
        "A clear pattern is observed here:\n",
        "\n",
        "Applicants with a credit history have a much higher rate of loan acceptance compared to those without a credit history.\n",
        "\n",
        "So, applicants with no credit history are more likely to be denied.\n",
        "\n",
        "This shows that Credit History is a strong predictor of loan approval and suggests that it plays a significant role in the model's performance."
      ],
      "metadata": {
        "id": "2GiMtULYGWX-"
      }
    },
    {
      "cell_type": "markdown",
      "source": [
        "**Loan Status by Property Area**"
      ],
      "metadata": {
        "id": "qJf-JzDlGZwq"
      }
    },
    {
      "cell_type": "code",
      "source": [
        "#Loan status by property area - Grouped Bar chart\n",
        "plt.figure(figsize=(6, 4))\n",
        "property_loan = pd.crosstab(df['Property_Area'], df['Loan_Status'])\n",
        "property_loan.plot(kind='bar', figsize=(6, 4))\n",
        "plt.title('Loan Status by Property Area')\n",
        "plt.xlabel('Property Area')\n",
        "plt.ylabel('Count')\n",
        "plt.xticks(rotation=0, ha='center')\n",
        "plt.show()"
      ],
      "metadata": {
        "id": "z5EicgwvGboa",
        "colab": {
          "base_uri": "https://localhost:8080/",
          "height": 427
        },
        "outputId": "5caac258-0109-478d-ffc7-5e391c36faa7"
      },
      "execution_count": null,
      "outputs": [
        {
          "output_type": "display_data",
          "data": {
            "text/plain": [
              "<Figure size 600x400 with 0 Axes>"
            ]
          },
          "metadata": {}
        },
        {
          "output_type": "display_data",
          "data": {
            "text/plain": [
              "<Figure size 600x400 with 1 Axes>"
            ],
            "image/png": "[encoded data removed]"
          },
          "metadata": {}
        }
      ]
    },
    {
      "cell_type": "markdown",
      "source": [
        "The chart shows that semiurban areas have the highest loan approval rate followed by urban areas.\n",
        "\n",
        "Rural applicants have the lowest number of approvals and loans may be rejected in this case.\n",
        "\n",
        "This suggests that property area may influence loan approval decisions, with semiurban areas showing a best choice."
      ],
      "metadata": {
        "id": "NMSu03PGGc-U"
      }
    },
    {
      "cell_type": "markdown",
      "source": [
        "**Loan Amount Distribution**"
      ],
      "metadata": {
        "id": "TZZN3AOFGfU1"
      }
    },
    {
      "cell_type": "code",
      "source": [
        "#Loan amount distribution - Histogran\n",
        "plt.figure(figsize=(6, 4))\n",
        "df['LoanAmount'].plot(kind='hist', bins=30)\n",
        "plt.title('Loan Amount Distribution')\n",
        "plt.xlabel('Loan Amount')\n",
        "plt.ylabel('Frequency')\n",
        "plt.show()"
      ],
      "metadata": {
        "id": "-UnKEGc0GhnB",
        "colab": {
          "base_uri": "https://localhost:8080/",
          "height": 410
        },
        "outputId": "9074a2e5-1d04-4609-ebc8-9c7c76877c21"
      },
      "execution_count": null,
      "outputs": [
        {
          "output_type": "display_data",
          "data": {
            "text/plain": [
              "<Figure size 600x400 with 1 Axes>"
            ],
            "image/png": "[encoded data removed]"
          },
          "metadata": {}
        }
      ]
    },
    {
      "cell_type": "markdown",
      "source": [
        "The distribution of loan amounts is approximately bell-shaped and slightly right-skewed, with most loan amounts ranging between 80 and 150.\n",
        "\n",
        "This indicates that the majority of applicants request moderate loan amounts, while a smaller number request significantly higher amounts."
      ],
      "metadata": {
        "id": "Iz_2dHIIGi_x"
      }
    },
    {
      "cell_type": "markdown",
      "source": [
        "**Applicant Income vs. Loan Status**"
      ],
      "metadata": {
        "id": "wIWgvOi3GlSw"
      }
    },
    {
      "cell_type": "code",
      "source": [
        "#Applicant income vs. Loan Status Boxplot\n",
        "plt.figure(figsize=(6, 4))\n",
        "df.boxplot(column='ApplicantIncome', by='Loan_Status')\n",
        "plt.title('Applicant Income vs. Loan Status')\n",
        "plt.xlabel('Loan Status')\n",
        "plt.ylabel('Applicant Income')\n",
        "plt.show()"
      ],
      "metadata": {
        "id": "o9R_nWffGm0g",
        "colab": {
          "base_uri": "https://localhost:8080/",
          "height": 495
        },
        "outputId": "0d0e9e83-bc23-4a85-840e-be2ef0968ef2"
      },
      "execution_count": null,
      "outputs": [
        {
          "output_type": "display_data",
          "data": {
            "text/plain": [
              "<Figure size 600x400 with 0 Axes>"
            ]
          },
          "metadata": {}
        },
        {
          "output_type": "display_data",
          "data": {
            "text/plain": [
              "<Figure size 640x480 with 1 Axes>"
            ],
            "image/png": "[encoded data removed]"
          },
          "metadata": {}
        }
      ]
    },
    {
      "cell_type": "markdown",
      "source": [
        "The boxplot shows that the median applicant income is similar for both approved and rejected loans.\n",
        "While both groups contain outliers with very high incomes, loan approval doesn't appear to be strongly influenced by applicant income alone.\n",
        "\n",
        "This suggests that income, while relevant, may not be a decisive factor in loan approval without considering other variables like credit history or coapplicant income."
      ],
      "metadata": {
        "id": "bgzc2fVUGoE1"
      }
    },
    {
      "cell_type": "markdown",
      "source": [
        "**Credit History vs. Loan Status**"
      ],
      "metadata": {
        "id": "ZiqSMfevGqvH"
      }
    },
    {
      "cell_type": "code",
      "source": [
        "#Credit history vs. loan status - boxplot\n",
        "plt.figure(figsize=(6, 4))\n",
        "df.boxplot(column='Credit_History', by='Loan_Status')\n",
        "plt.title('Credit_History vs. Loan Status')\n",
        "plt.xlabel('Loan Status')\n",
        "plt.ylabel('Credit_History')\n",
        "plt.show()"
      ],
      "metadata": {
        "id": "FqmiAcq6Gsjz",
        "colab": {
          "base_uri": "https://localhost:8080/",
          "height": 495
        },
        "outputId": "3cefa8e6-2ab4-4293-9ec2-6fe5f5eb4022"
      },
      "execution_count": null,
      "outputs": [
        {
          "output_type": "display_data",
          "data": {
            "text/plain": [
              "<Figure size 600x400 with 0 Axes>"
            ]
          },
          "metadata": {}
        },
        {
          "output_type": "display_data",
          "data": {
            "text/plain": [
              "<Figure size 640x480 with 1 Axes>"
            ],
            "image/png": "[encoded data removed]"
          },
          "metadata": {}
        }
      ]
    },
    {
      "cell_type": "markdown",
      "source": [
        "The boxplot shows a strong relationship between Credit_History and Loan_Status.\n",
        "Most applicants with a credit history were approved, while those with no credit history were largely rejected.\n",
        "\n",
        "This reinforces that credit history is a key factor in determining loan approval and is likely one of the most important predictive features in the dataset."
      ],
      "metadata": {
        "id": "fttM2jlwGuog"
      }
    },
    {
      "cell_type": "markdown",
      "source": [
        "**Coapplicant Income vs. Loan Status**"
      ],
      "metadata": {
        "id": "3O6Kvg7BGxCx"
      }
    },
    {
      "cell_type": "code",
      "source": [
        "#Coapplicant income vs. loan status - boxplot\n",
        "plt.figure(figsize=(6, 4))\n",
        "df.boxplot(column='CoapplicantIncome', by='Loan_Status')\n",
        "plt.title('CoapplicantIncome vs. Loan Status')\n",
        "plt.xlabel('Loan Status')\n",
        "plt.ylabel('CoapplicantIncome')\n",
        "plt.show()"
      ],
      "metadata": {
        "id": "HtokxT0CGzny",
        "colab": {
          "base_uri": "https://localhost:8080/",
          "height": 495
        },
        "outputId": "15f50943-9ece-46d3-a1bc-e1a2cd913bcd"
      },
      "execution_count": null,
      "outputs": [
        {
          "output_type": "display_data",
          "data": {
            "text/plain": [
              "<Figure size 600x400 with 0 Axes>"
            ]
          },
          "metadata": {}
        },
        {
          "output_type": "display_data",
          "data": {
            "text/plain": [
              "<Figure size 640x480 with 1 Axes>"
            ],
            "image/png": "[encoded data removed]"
          },
          "metadata": {}
        }
      ]
    },
    {
      "cell_type": "markdown",
      "source": [
        "The boxplot shows that the distribution of coapplicant income is fairly similar for both approved and rejected applicants.\n",
        "\n",
        "While approved loans tend to have a slightly higher median coapplicant income, the difference is not significant.\n",
        "\n",
        "This suggests that coapplicant income alone doesn't strongly influence loan approval, but may still be useful when combined with other variables like total income or credit history."
      ],
      "metadata": {
        "id": "gNwUgwHzG1Fu"
      }
    },
    {
      "cell_type": "markdown",
      "source": [
        "**Applicant Total_Income vs. Loan Status**"
      ],
      "metadata": {
        "id": "19CPCoZOG4Ke"
      }
    },
    {
      "cell_type": "code",
      "source": [
        "#boxplot- the new variable Total_Income that we created vs. Loan_Status\n",
        "plt.figure(figsize=(6,4))\n",
        "sns.boxplot(x= 'Loan_Status', y= 'Total_Income', data = df)\n",
        "plt.title('Applicant Total_Income vs. Loan Status')\n",
        "plt.show()"
      ],
      "metadata": {
        "id": "IEMHi2dmG6WA",
        "colab": {
          "base_uri": "https://localhost:8080/",
          "height": 410
        },
        "outputId": "4679c203-7066-440e-ce58-baffad32c20e"
      },
      "execution_count": null,
      "outputs": [
        {
          "output_type": "display_data",
          "data": {
            "text/plain": [
              "<Figure size 600x400 with 1 Axes>"
            ],
            "image/png": "[encoded data removed]"
          },
          "metadata": {}
        }
      ]
    },
    {
      "cell_type": "markdown",
      "source": [
        "The boxplot shows that applicants with approved loans have a slightly higher median total income compared to those whose loans were rejected.\n",
        "\n",
        "However, the overlap between the 2 groups is significant, indicating that Total Income alone doesn't strongly differentiate approval outcome.\n",
        "This suggests that while total income may play a role, it likely interacts with other factors such as EMI, credit history, or loan amount in influencing approval decisions."
      ],
      "metadata": {
        "id": "ZJBADSQkG8IH"
      }
    },
    {
      "cell_type": "markdown",
      "source": [
        "**Applicant EMI vs. Loan Status**"
      ],
      "metadata": {
        "id": "TUnmvFyhG-og"
      }
    },
    {
      "cell_type": "code",
      "source": [
        "#boxplot- the new variable EMI that we created vs. Loan_Status\n",
        "plt.figure(figsize=(6,4))\n",
        "sns.boxplot(x= 'Loan_Status', y= 'EMI', data = df)\n",
        "plt.title('Applicant EMI vs. Loan Status')\n",
        "plt.show()"
      ],
      "metadata": {
        "id": "FPtqAD3RHARc",
        "colab": {
          "base_uri": "https://localhost:8080/",
          "height": 410
        },
        "outputId": "cf9a67c2-9922-4ea7-d346-23ebac72744e"
      },
      "execution_count": null,
      "outputs": [
        {
          "output_type": "display_data",
          "data": {
            "text/plain": [
              "<Figure size 600x400 with 1 Axes>"
            ],
            "image/png": "[encoded data removed]"
          },
          "metadata": {}
        }
      ]
    },
    {
      "cell_type": "markdown",
      "source": [
        "The boxplot indicates that most applicants have low EMI values, and the distribution is quite similar across both loan statuses.\n",
        "\n",
        "While there are a few outliers with high EMI values, the median EMI is nearly identical between approved and rejected loans.\n",
        "\n",
        "This suggests that EMI alone may not be a strong predictor of loan approval when considered independently."
      ],
      "metadata": {
        "id": "WPLiG9djHB4t"
      }
    },
    {
      "cell_type": "markdown",
      "source": [
        "**Applicant Loan_Income_Ratio vs. Loan Status**"
      ],
      "metadata": {
        "id": "F4L2Mb2IHFaW"
      }
    },
    {
      "cell_type": "code",
      "source": [
        "#boxplot- the new variable Loan_Income_Ratio that we created vs. Loan_Status\n",
        "plt.figure(figsize=(6,4))\n",
        "sns.boxplot(x= 'Loan_Status', y= 'Loan_Income_Ratio', data = df)\n",
        "plt.title('Applicant Loan_Income_Ratio vs. Loan Status')\n",
        "plt.show()"
      ],
      "metadata": {
        "id": "qscpbAmRHHNq",
        "colab": {
          "base_uri": "https://localhost:8080/",
          "height": 410
        },
        "outputId": "5b34bac8-f796-4134-9dae-1cc4f4577dfb"
      },
      "execution_count": null,
      "outputs": [
        {
          "output_type": "display_data",
          "data": {
            "text/plain": [
              "<Figure size 600x400 with 1 Axes>"
            ],
            "image/png": "[encoded data removed]"
          },
          "metadata": {}
        }
      ]
    },
    {
      "cell_type": "markdown",
      "source": [
        "The boxplot shows that the Loan-to-Income ratio is slightly lower for applicants whose loans were approved compared to those who were rejected.\n",
        "\n",
        "This suggests that applicants requesting smaller loans relative to their income are more likely to be approved.\n",
        "\n",
        "The Loan_Income_Ratio appears to be a potentially useful feature, as it reflects a measure of affordability from the lender's perspective."
      ],
      "metadata": {
        "id": "QyZZsvssHItZ"
      }
    },
    {
      "cell_type": "markdown",
      "source": [
        "**Education vs. Loan Status**"
      ],
      "metadata": {
        "id": "J6GP8FrhHLOC"
      }
    },
    {
      "cell_type": "code",
      "source": [
        "#education vs. loan status\n",
        "sns.countplot(x='Education', hue='Loan_Status', data=df)\n",
        "plt.title(\"Loan Status by Education\")\n",
        "plt.show()"
      ],
      "metadata": {
        "id": "5sU-LgumHNDM",
        "colab": {
          "base_uri": "https://localhost:8080/",
          "height": 472
        },
        "outputId": "8cce28da-f248-40bd-e07c-3c975c3d16bf"
      },
      "execution_count": null,
      "outputs": [
        {
          "output_type": "display_data",
          "data": {
            "text/plain": [
              "<Figure size 640x480 with 1 Axes>"
            ],
            "image/png": "[encoded data removed]"
          },
          "metadata": {}
        }
      ]
    },
    {
      "cell_type": "markdown",
      "source": [
        "The countplot shows that graduates have a higher number of approved loans compared to non-graduates.\n",
        "\n",
        "However, the approval-to-rejection ratio is fairly similar across both education groups, suggesting that education level doesn't strongly influence the loan approval outcome on its own."
      ],
      "metadata": {
        "id": "A-m2r_X1HOiG"
      }
    },
    {
      "cell_type": "markdown",
      "source": [
        "**Self_Employed vs. Loan Status**"
      ],
      "metadata": {
        "id": "ClGenWxQHR9R"
      }
    },
    {
      "cell_type": "code",
      "source": [
        "#self employed vs. loan status\n",
        "sns.countplot(x='Self_Employed', hue='Loan_Status', data=df)\n",
        "plt.title(\"Loan Status by Employment Type\")\n",
        "plt.show()"
      ],
      "metadata": {
        "id": "CZkQ0BLlHV5O",
        "colab": {
          "base_uri": "https://localhost:8080/",
          "height": 472
        },
        "outputId": "602831f7-c879-41bb-a4fc-8070b3182dc7"
      },
      "execution_count": null,
      "outputs": [
        {
          "output_type": "display_data",
          "data": {
            "text/plain": [
              "<Figure size 640x480 with 1 Axes>"
            ],
            "image/png": "[encoded data removed]"
          },
          "metadata": {}
        }
      ]
    },
    {
      "cell_type": "markdown",
      "source": [
        "The chart shows that non self-employed applicants make up the majority of approved loans, while self-employed applicants have significantly fewer approvals and rejections.\n",
        "\n",
        "However, the ratio of approvals to rejections appears similar in both groups, suggesting that employment type has minimal effect on loan approval decisions in this dataset."
      ],
      "metadata": {
        "id": "M93xYqeQHYpE"
      }
    },
    {
      "cell_type": "markdown",
      "source": [
        "## 6. Prepare the data for Modeling"
      ],
      "metadata": {
        "id": "og9I-8TsHg-j"
      }
    },
    {
      "cell_type": "code",
      "source": [
        "#Split back into training and test sets\n",
        "df_train = df[df['source'] == 'train'].drop(columns=['source'])\n",
        "df_test = df[df['source'] == 'test'].drop(columns=['source'])"
      ],
      "metadata": {
        "id": "TpMF0bk-HjKO"
      },
      "execution_count": null,
      "outputs": []
    },
    {
      "cell_type": "code",
      "source": [
        "#define features and target\n",
        "#Drop Loan_ID not necessary column and it has no predictive power\n",
        "X = df_train.drop(columns=['Loan_ID', 'Loan_Status'])\n",
        "y = df_train['Loan_Status']  # Already encoded: Y=1, N=0 and it's our target variable, so it must be removed from the features"
      ],
      "metadata": {
        "id": "hJ34Vhm3HmR9"
      },
      "execution_count": null,
      "outputs": []
    },
    {
      "cell_type": "markdown",
      "source": [
        "# Train the model"
      ],
      "metadata": {
        "id": "vQVQgyq2HoWP"
      }
    },
    {
      "cell_type": "markdown",
      "source": [
        "**Model Building**"
      ],
      "metadata": {
        "id": "_UcXodXKHqMA"
      }
    },
    {
      "cell_type": "code",
      "source": [
        "#Logistic Regression\n",
        "#import needed libraries\n",
        "from sklearn.model_selection import train_test_split\n",
        "from sklearn.linear_model import LogisticRegression\n",
        "from sklearn.metrics import accuracy_score, confusion_matrix, classification_report\n",
        "from sklearn.preprocessing import LabelEncoder\n",
        "import pandas as pd"
      ],
      "metadata": {
        "id": "VJE_R04FHsvI"
      },
      "execution_count": null,
      "outputs": []
    },
    {
      "cell_type": "code",
      "source": [
        "#Split the dataset\n",
        "X_train, X_test, y_train, y_test = train_test_split(X, y, test_size=0.2, random_state=42)\n",
        "#Scale\n",
        "from sklearn.preprocessing import StandardScaler\n",
        "scaler = StandardScaler()\n",
        "X_train_scaled = scaler.fit_transform(X_train)\n",
        "X_test_scaled = scaler.transform(X_test)"
      ],
      "metadata": {
        "id": "VnVf_OXjHuLm"
      },
      "execution_count": null,
      "outputs": []
    },
    {
      "cell_type": "code",
      "source": [
        "#Train a Logistic Regression model\n",
        "model = LogisticRegression(max_iter=1000)\n",
        "model.fit(X_train_scaled, y_train)"
      ],
      "metadata": {
        "id": "LxtB3giGHv4M",
        "colab": {
          "base_uri": "https://localhost:8080/",
          "height": 80
        },
        "outputId": "6e6b3805-6118-4907-fc07-19e873f81540"
      },
      "execution_count": null,
      "outputs": [
        {
          "output_type": "execute_result",
          "data": {
            "text/plain": [
              "LogisticRegression(max_iter=1000)"
            ],
            "text/html": [
              "<style>#sk-container-id-1 {\n",
              "  /* Definition of color scheme common for light and dark mode */\n",
              "  --sklearn-color-text: #000;\n",
              "  --sklearn-color-text-muted: #666;\n",
              "  --sklearn-color-line: gray;\n",
              "  /* Definition of color scheme for unfitted estimators */\n",
              "  --sklearn-color-unfitted-level-0: #fff5e6;\n",
              "  --sklearn-color-unfitted-level-1: #f6e4d2;\n",
              "  --sklearn-color-unfitted-level-2: #ffe0b3;\n",
              "  --sklearn-color-unfitted-level-3: chocolate;\n",
              "  /* Definition of color scheme for fitted estimators */\n",
              "  --sklearn-color-fitted-level-0: #f0f8ff;\n",
              "  --sklearn-color-fitted-level-1: #d4ebff;\n",
              "  --sklearn-color-fitted-level-2: #b3dbfd;\n",
              "  --sklearn-color-fitted-level-3: cornflowerblue;\n",
              "\n",
              "  /* Specific color for light theme */\n",
              "  --sklearn-color-text-on-default-background: var(--sg-text-color, var(--theme-code-foreground, var(--jp-content-font-color1, black)));\n",
              "  --sklearn-color-background: var(--sg-background-color, var(--theme-background, var(--jp-layout-color0, white)));\n",
              "  --sklearn-color-border-box: var(--sg-text-color, var(--theme-code-foreground, var(--jp-content-font-color1, black)));\n",
              "  --sklearn-color-icon: #696969;\n",
              "\n",
              "  @media (prefers-color-scheme: dark) {\n",
              "    /* Redefinition of color scheme for dark theme */\n",
              "    --sklearn-color-text-on-default-background: var(--sg-text-color, var(--theme-code-foreground, var(--jp-content-font-color1, white)));\n",
              "    --sklearn-color-background: var(--sg-background-color, var(--theme-background, var(--jp-layout-color0, #111)));\n",
              "    --sklearn-color-border-box: var(--sg-text-color, var(--theme-code-foreground, var(--jp-content-font-color1, white)));\n",
              "    --sklearn-color-icon: #878787;\n",
              "  }\n",
              "}\n",
              "\n",
              "#sk-container-id-1 {\n",
              "  color: var(--sklearn-color-text);\n",
              "}\n",
              "\n",
              "#sk-container-id-1 pre {\n",
              "  padding: 0;\n",
              "}\n",
              "\n",
              "#sk-container-id-1 input.sk-hidden--visually {\n",
              "  border: 0;\n",
              "  clip: rect(1px 1px 1px 1px);\n",
              "  clip: rect(1px, 1px, 1px, 1px);\n",
              "  height: 1px;\n",
              "  margin: -1px;\n",
              "  overflow: hidden;\n",
              "  padding: 0;\n",
              "  position: absolute;\n",
              "  width: 1px;\n",
              "}\n",
              "\n",
              "#sk-container-id-1 div.sk-dashed-wrapped {\n",
              "  border: 1px dashed var(--sklearn-color-line);\n",
              "  margin: 0 0.4em 0.5em 0.4em;\n",
              "  box-sizing: border-box;\n",
              "  padding-bottom: 0.4em;\n",
              "  background-color: var(--sklearn-color-background);\n",
              "}\n",
              "\n",
              "#sk-container-id-1 div.sk-container {\n",
              "  /* jupyter's `normalize.less` sets `[hidden] { display: none; }`\n",
              "     but bootstrap.min.css set `[hidden] { display: none !important; }`\n",
              "     so we also need the `!important` here to be able to override the\n",
              "     default hidden behavior on the sphinx rendered scikit-learn.org.\n",
              "     See: https://github.com/scikit-learn/scikit-learn/issues/21755 */\n",
              "  display: inline-block !important;\n",
              "  position: relative;\n",
              "}\n",
              "\n",
              "#sk-container-id-1 div.sk-text-repr-fallback {\n",
              "  display: none;\n",
              "}\n",
              "\n",
              "div.sk-parallel-item,\n",
              "div.sk-serial,\n",
              "div.sk-item {\n",
              "  /* draw centered vertical line to link estimators */\n",
              "  background-image: linear-gradient(var(--sklearn-color-text-on-default-background), var(--sklearn-color-text-on-default-background));\n",
              "  background-size: 2px 100%;\n",
              "  background-repeat: no-repeat;\n",
              "  background-position: center center;\n",
              "}\n",
              "\n",
              "/* Parallel-specific style estimator block */\n",
              "\n",
              "#sk-container-id-1 div.sk-parallel-item::after {\n",
              "  content: \"\";\n",
              "  width: 100%;\n",
              "  border-bottom: 2px solid var(--sklearn-color-text-on-default-background);\n",
              "  flex-grow: 1;\n",
              "}\n",
              "\n",
              "#sk-container-id-1 div.sk-parallel {\n",
              "  display: flex;\n",
              "  align-items: stretch;\n",
              "  justify-content: center;\n",
              "  background-color: var(--sklearn-color-background);\n",
              "  position: relative;\n",
              "}\n",
              "\n",
              "#sk-container-id-1 div.sk-parallel-item {\n",
              "  display: flex;\n",
              "  flex-direction: column;\n",
              "}\n",
              "\n",
              "#sk-container-id-1 div.sk-parallel-item:first-child::after {\n",
              "  align-self: flex-end;\n",
              "  width: 50%;\n",
              "}\n",
              "\n",
              "#sk-container-id-1 div.sk-parallel-item:last-child::after {\n",
              "  align-self: flex-start;\n",
              "  width: 50%;\n",
              "}\n",
              "\n",
              "#sk-container-id-1 div.sk-parallel-item:only-child::after {\n",
              "  width: 0;\n",
              "}\n",
              "\n",
              "/* Serial-specific style estimator block */\n",
              "\n",
              "#sk-container-id-1 div.sk-serial {\n",
              "  display: flex;\n",
              "  flex-direction: column;\n",
              "  align-items: center;\n",
              "  background-color: var(--sklearn-color-background);\n",
              "  padding-right: 1em;\n",
              "  padding-left: 1em;\n",
              "}\n",
              "\n",
              "\n",
              "/* Toggleable style: style used for estimator/Pipeline/ColumnTransformer box that is\n",
              "clickable and can be expanded/collapsed.\n",
              "- Pipeline and ColumnTransformer use this feature and define the default style\n",
              "- Estimators will overwrite some part of the style using the `sk-estimator` class\n",
              "*/\n",
              "\n",
              "/* Pipeline and ColumnTransformer style (default) */\n",
              "\n",
              "#sk-container-id-1 div.sk-toggleable {\n",
              "  /* Default theme specific background. It is overwritten whether we have a\n",
              "  specific estimator or a Pipeline/ColumnTransformer */\n",
              "  background-color: var(--sklearn-color-background);\n",
              "}\n",
              "\n",
              "/* Toggleable label */\n",
              "#sk-container-id-1 label.sk-toggleable__label {\n",
              "  cursor: pointer;\n",
              "  display: flex;\n",
              "  width: 100%;\n",
              "  margin-bottom: 0;\n",
              "  padding: 0.5em;\n",
              "  box-sizing: border-box;\n",
              "  text-align: center;\n",
              "  align-items: start;\n",
              "  justify-content: space-between;\n",
              "  gap: 0.5em;\n",
              "}\n",
              "\n",
              "#sk-container-id-1 label.sk-toggleable__label .caption {\n",
              "  font-size: 0.6rem;\n",
              "  font-weight: lighter;\n",
              "  color: var(--sklearn-color-text-muted);\n",
              "}\n",
              "\n",
              "#sk-container-id-1 label.sk-toggleable__label-arrow:before {\n",
              "  /* Arrow on the left of the label */\n",
              "  content: \"▸\";\n",
              "  float: left;\n",
              "  margin-right: 0.25em;\n",
              "  color: var(--sklearn-color-icon);\n",
              "}\n",
              "\n",
              "#sk-container-id-1 label.sk-toggleable__label-arrow:hover:before {\n",
              "  color: var(--sklearn-color-text);\n",
              "}\n",
              "\n",
              "/* Toggleable content - dropdown */\n",
              "\n",
              "#sk-container-id-1 div.sk-toggleable__content {\n",
              "  max-height: 0;\n",
              "  max-width: 0;\n",
              "  overflow: hidden;\n",
              "  text-align: left;\n",
              "  /* unfitted */\n",
              "  background-color: var(--sklearn-color-unfitted-level-0);\n",
              "}\n",
              "\n",
              "#sk-container-id-1 div.sk-toggleable__content.fitted {\n",
              "  /* fitted */\n",
              "  background-color: var(--sklearn-color-fitted-level-0);\n",
              "}\n",
              "\n",
              "#sk-container-id-1 div.sk-toggleable__content pre {\n",
              "  margin: 0.2em;\n",
              "  border-radius: 0.25em;\n",
              "  color: var(--sklearn-color-text);\n",
              "  /* unfitted */\n",
              "  background-color: var(--sklearn-color-unfitted-level-0);\n",
              "}\n",
              "\n",
              "#sk-container-id-1 div.sk-toggleable__content.fitted pre {\n",
              "  /* unfitted */\n",
              "  background-color: var(--sklearn-color-fitted-level-0);\n",
              "}\n",
              "\n",
              "#sk-container-id-1 input.sk-toggleable__control:checked~div.sk-toggleable__content {\n",
              "  /* Expand drop-down */\n",
              "  max-height: 200px;\n",
              "  max-width: 100%;\n",
              "  overflow: auto;\n",
              "}\n",
              "\n",
              "#sk-container-id-1 input.sk-toggleable__control:checked~label.sk-toggleable__label-arrow:before {\n",
              "  content: \"▾\";\n",
              "}\n",
              "\n",
              "/* Pipeline/ColumnTransformer-specific style */\n",
              "\n",
              "#sk-container-id-1 div.sk-label input.sk-toggleable__control:checked~label.sk-toggleable__label {\n",
              "  color: var(--sklearn-color-text);\n",
              "  background-color: var(--sklearn-color-unfitted-level-2);\n",
              "}\n",
              "\n",
              "#sk-container-id-1 div.sk-label.fitted input.sk-toggleable__control:checked~label.sk-toggleable__label {\n",
              "  background-color: var(--sklearn-color-fitted-level-2);\n",
              "}\n",
              "\n",
              "/* Estimator-specific style */\n",
              "\n",
              "/* Colorize estimator box */\n",
              "#sk-container-id-1 div.sk-estimator input.sk-toggleable__control:checked~label.sk-toggleable__label {\n",
              "  /* unfitted */\n",
              "  background-color: var(--sklearn-color-unfitted-level-2);\n",
              "}\n",
              "\n",
              "#sk-container-id-1 div.sk-estimator.fitted input.sk-toggleable__control:checked~label.sk-toggleable__label {\n",
              "  /* fitted */\n",
              "  background-color: var(--sklearn-color-fitted-level-2);\n",
              "}\n",
              "\n",
              "#sk-container-id-1 div.sk-label label.sk-toggleable__label,\n",
              "#sk-container-id-1 div.sk-label label {\n",
              "  /* The background is the default theme color */\n",
              "  color: var(--sklearn-color-text-on-default-background);\n",
              "}\n",
              "\n",
              "/* On hover, darken the color of the background */\n",
              "#sk-container-id-1 div.sk-label:hover label.sk-toggleable__label {\n",
              "  color: var(--sklearn-color-text);\n",
              "  background-color: var(--sklearn-color-unfitted-level-2);\n",
              "}\n",
              "\n",
              "/* Label box, darken color on hover, fitted */\n",
              "#sk-container-id-1 div.sk-label.fitted:hover label.sk-toggleable__label.fitted {\n",
              "  color: var(--sklearn-color-text);\n",
              "  background-color: var(--sklearn-color-fitted-level-2);\n",
              "}\n",
              "\n",
              "/* Estimator label */\n",
              "\n",
              "#sk-container-id-1 div.sk-label label {\n",
              "  font-family: monospace;\n",
              "  font-weight: bold;\n",
              "  display: inline-block;\n",
              "  line-height: 1.2em;\n",
              "}\n",
              "\n",
              "#sk-container-id-1 div.sk-label-container {\n",
              "  text-align: center;\n",
              "}\n",
              "\n",
              "/* Estimator-specific */\n",
              "#sk-container-id-1 div.sk-estimator {\n",
              "  font-family: monospace;\n",
              "  border: 1px dotted var(--sklearn-color-border-box);\n",
              "  border-radius: 0.25em;\n",
              "  box-sizing: border-box;\n",
              "  margin-bottom: 0.5em;\n",
              "  /* unfitted */\n",
              "  background-color: var(--sklearn-color-unfitted-level-0);\n",
              "}\n",
              "\n",
              "#sk-container-id-1 div.sk-estimator.fitted {\n",
              "  /* fitted */\n",
              "  background-color: var(--sklearn-color-fitted-level-0);\n",
              "}\n",
              "\n",
              "/* on hover */\n",
              "#sk-container-id-1 div.sk-estimator:hover {\n",
              "  /* unfitted */\n",
              "  background-color: var(--sklearn-color-unfitted-level-2);\n",
              "}\n",
              "\n",
              "#sk-container-id-1 div.sk-estimator.fitted:hover {\n",
              "  /* fitted */\n",
              "  background-color: var(--sklearn-color-fitted-level-2);\n",
              "}\n",
              "\n",
              "/* Specification for estimator info (e.g. \"i\" and \"?\") */\n",
              "\n",
              "/* Common style for \"i\" and \"?\" */\n",
              "\n",
              ".sk-estimator-doc-link,\n",
              "a:link.sk-estimator-doc-link,\n",
              "a:visited.sk-estimator-doc-link {\n",
              "  float: right;\n",
              "  font-size: smaller;\n",
              "  line-height: 1em;\n",
              "  font-family: monospace;\n",
              "  background-color: var(--sklearn-color-background);\n",
              "  border-radius: 1em;\n",
              "  height: 1em;\n",
              "  width: 1em;\n",
              "  text-decoration: none !important;\n",
              "  margin-left: 0.5em;\n",
              "  text-align: center;\n",
              "  /* unfitted */\n",
              "  border: var(--sklearn-color-unfitted-level-1) 1pt solid;\n",
              "  color: var(--sklearn-color-unfitted-level-1);\n",
              "}\n",
              "\n",
              ".sk-estimator-doc-link.fitted,\n",
              "a:link.sk-estimator-doc-link.fitted,\n",
              "a:visited.sk-estimator-doc-link.fitted {\n",
              "  /* fitted */\n",
              "  border: var(--sklearn-color-fitted-level-1) 1pt solid;\n",
              "  color: var(--sklearn-color-fitted-level-1);\n",
              "}\n",
              "\n",
              "/* On hover */\n",
              "div.sk-estimator:hover .sk-estimator-doc-link:hover,\n",
              ".sk-estimator-doc-link:hover,\n",
              "div.sk-label-container:hover .sk-estimator-doc-link:hover,\n",
              ".sk-estimator-doc-link:hover {\n",
              "  /* unfitted */\n",
              "  background-color: var(--sklearn-color-unfitted-level-3);\n",
              "  color: var(--sklearn-color-background);\n",
              "  text-decoration: none;\n",
              "}\n",
              "\n",
              "div.sk-estimator.fitted:hover .sk-estimator-doc-link.fitted:hover,\n",
              ".sk-estimator-doc-link.fitted:hover,\n",
              "div.sk-label-container:hover .sk-estimator-doc-link.fitted:hover,\n",
              ".sk-estimator-doc-link.fitted:hover {\n",
              "  /* fitted */\n",
              "  background-color: var(--sklearn-color-fitted-level-3);\n",
              "  color: var(--sklearn-color-background);\n",
              "  text-decoration: none;\n",
              "}\n",
              "\n",
              "/* Span, style for the box shown on hovering the info icon */\n",
              ".sk-estimator-doc-link span {\n",
              "  display: none;\n",
              "  z-index: 9999;\n",
              "  position: relative;\n",
              "  font-weight: normal;\n",
              "  right: .2ex;\n",
              "  padding: .5ex;\n",
              "  margin: .5ex;\n",
              "  width: min-content;\n",
              "  min-width: 20ex;\n",
              "  max-width: 50ex;\n",
              "  color: var(--sklearn-color-text);\n",
              "  box-shadow: 2pt 2pt 4pt #999;\n",
              "  /* unfitted */\n",
              "  background: var(--sklearn-color-unfitted-level-0);\n",
              "  border: .5pt solid var(--sklearn-color-unfitted-level-3);\n",
              "}\n",
              "\n",
              ".sk-estimator-doc-link.fitted span {\n",
              "  /* fitted */\n",
              "  background: var(--sklearn-color-fitted-level-0);\n",
              "  border: var(--sklearn-color-fitted-level-3);\n",
              "}\n",
              "\n",
              ".sk-estimator-doc-link:hover span {\n",
              "  display: block;\n",
              "}\n",
              "\n",
              "/* \"?\"-specific style due to the `<a>` HTML tag */\n",
              "\n",
              "#sk-container-id-1 a.estimator_doc_link {\n",
              "  float: right;\n",
              "  font-size: 1rem;\n",
              "  line-height: 1em;\n",
              "  font-family: monospace;\n",
              "  background-color: var(--sklearn-color-background);\n",
              "  border-radius: 1rem;\n",
              "  height: 1rem;\n",
              "  width: 1rem;\n",
              "  text-decoration: none;\n",
              "  /* unfitted */\n",
              "  color: var(--sklearn-color-unfitted-level-1);\n",
              "  border: var(--sklearn-color-unfitted-level-1) 1pt solid;\n",
              "}\n",
              "\n",
              "#sk-container-id-1 a.estimator_doc_link.fitted {\n",
              "  /* fitted */\n",
              "  border: var(--sklearn-color-fitted-level-1) 1pt solid;\n",
              "  color: var(--sklearn-color-fitted-level-1);\n",
              "}\n",
              "\n",
              "/* On hover */\n",
              "#sk-container-id-1 a.estimator_doc_link:hover {\n",
              "  /* unfitted */\n",
              "  background-color: var(--sklearn-color-unfitted-level-3);\n",
              "  color: var(--sklearn-color-background);\n",
              "  text-decoration: none;\n",
              "}\n",
              "\n",
              "#sk-container-id-1 a.estimator_doc_link.fitted:hover {\n",
              "  /* fitted */\n",
              "  background-color: var(--sklearn-color-fitted-level-3);\n",
              "}\n",
              "</style><div id=\"sk-container-id-1\" class=\"sk-top-container\"><div class=\"sk-text-repr-fallback\"><pre>LogisticRegression(max_iter=1000)</pre><b>In a Jupyter environment, please rerun this cell to show the HTML representation or trust the notebook. <br />On GitHub, the HTML representation is unable to render, please try loading this page with nbviewer.org.</b></div><div class=\"sk-container\" hidden><div class=\"sk-item\"><div class=\"sk-estimator fitted sk-toggleable\"><input class=\"sk-toggleable__control sk-hidden--visually\" id=\"sk-estimator-id-1\" type=\"checkbox\" checked><label for=\"sk-estimator-id-1\" class=\"sk-toggleable__label fitted sk-toggleable__label-arrow\"><div><div>LogisticRegression</div></div><div><a class=\"sk-estimator-doc-link fitted\" rel=\"noreferrer\" target=\"_blank\" href=\"https://scikit-learn.org/1.6/modules/generated/sklearn.linear_model.LogisticRegression.html\">?<span>Documentation for LogisticRegression</span></a><span class=\"sk-estimator-doc-link fitted\">i<span>Fitted</span></span></div></label><div class=\"sk-toggleable__content fitted\"><pre>LogisticRegression(max_iter=1000)</pre></div> </div></div></div></div>"
            ]
          },
          "metadata": {},
          "execution_count": 43
        }
      ]
    },
    {
      "cell_type": "markdown",
      "source": [
        "## 7. Model Evaluation"
      ],
      "metadata": {
        "id": "I4tjca_XHz1w"
      }
    },
    {
      "cell_type": "code",
      "source": [
        "from sklearn.metrics import accuracy_score, confusion_matrix, classification_report\n",
        "y_pred = model.predict(X_test_scaled) #make predictions\n",
        "print('Accuracy = ', accuracy_score(y_test, y_pred))\n",
        "print('confusion matrix:\\n', confusion_matrix(y_test, y_pred))\n",
        "print('classification report:\\n', classification_report(y_test, y_pred))\n",
        "#evaluate the model\n",
        "acc = accuracy_score(y_test, y_pred)\n",
        "cm = confusion_matrix(y_test, y_pred)\n",
        "report = classification_report(y_test, y_pred)"
      ],
      "metadata": {
        "id": "4BWqCRyjH1fJ",
        "colab": {
          "base_uri": "https://localhost:8080/"
        },
        "outputId": "6333ef35-8e25-449c-e507-10a72a968e01"
      },
      "execution_count": null,
      "outputs": [
        {
          "output_type": "stream",
          "name": "stdout",
          "text": [
            "Accuracy =  0.7764705882352941\n",
            "confusion matrix:\n",
            " [[12 16]\n",
            " [ 3 54]]\n",
            "classification report:\n",
            "               precision    recall  f1-score   support\n",
            "\n",
            "           0       0.80      0.43      0.56        28\n",
            "           1       0.77      0.95      0.85        57\n",
            "\n",
            "    accuracy                           0.78        85\n",
            "   macro avg       0.79      0.69      0.70        85\n",
            "weighted avg       0.78      0.78      0.75        85\n",
            "\n"
          ]
        }
      ]
    },
    {
      "cell_type": "markdown",
      "source": [
        "The logistic regression model achieved an accuracy of 77.6%, with strong performance in predicting approved loans (class 1), showing a recall of 0.95 and precision of 0.77.\n",
        "\n",
        "However, its performance on rejected loans (class 0) is weaker, with a recall of 0.43 and precision of 0.80, indicating that many rejected cases are misclassified.\n",
        "\n",
        "As suggestions for improvement and to enhance balance:\n",
        "\n",
        "We can use class weights in logistic regression, try other models like Random Forest or XGBoost, or apply SMOTE or other resampling techniques to address class imbalance."
      ],
      "metadata": {
        "id": "Dj3m7IIsH6sL"
      }
    },
    {
      "cell_type": "markdown",
      "source": [
        "### Prepare test data and make predictions"
      ],
      "metadata": {
        "id": "69IclS0CH9dG"
      }
    },
    {
      "cell_type": "code",
      "source": [
        "#Prepare final test set (excluding ID and target)\n",
        "X_final_test = df_test.drop(columns=['Loan_ID', 'Loan_Status'])\n",
        "\n",
        "#Scale test data using the same scaler used on training data\n",
        "X_final_test_scaled = scaler.transform(X_final_test)\n",
        "\n",
        "#Predict using trained model\n",
        "test_predictions = model.predict(X_final_test_scaled)"
      ],
      "metadata": {
        "id": "_OW0nM19H-UK"
      },
      "execution_count": null,
      "outputs": []
    },
    {
      "cell_type": "markdown",
      "source": [
        "#### Create a results DataFrame"
      ],
      "metadata": {
        "id": "SGPSb2ppH_1w"
      }
    },
    {
      "cell_type": "code",
      "source": [
        "#Combine Loan_IDs with predictions\n",
        "results_df = pd.DataFrame({\n",
        "    'Loan_ID': df_test['Loan_ID'],\n",
        "    'Predicted_Loan_Status': test_predictions\n",
        "})"
      ],
      "metadata": {
        "id": "wRhTPcbNICMd"
      },
      "execution_count": null,
      "outputs": []
    },
    {
      "cell_type": "code",
      "source": [
        "results_df['Predicted_Loan_Status'] = results_df['Predicted_Loan_Status'].map({1: 'Y', 0: 'N'})"
      ],
      "metadata": {
        "id": "by3HZMbZIDsq"
      },
      "execution_count": null,
      "outputs": []
    },
    {
      "cell_type": "code",
      "source": [
        "#Save the results to a CSV file\n",
        "results_df.to_csv('loan_predictions.csv', index=False)\n",
        "print(\"Predictions saved to 'loan_predictions.csv'\")"
      ],
      "metadata": {
        "id": "yMpwhN8LIF78",
        "colab": {
          "base_uri": "https://localhost:8080/"
        },
        "outputId": "9ff0fad0-1fa0-4891-e1d9-31de268068a6"
      },
      "execution_count": null,
      "outputs": [
        {
          "output_type": "stream",
          "name": "stdout",
          "text": [
            "Predictions saved to 'loan_predictions.csv'\n"
          ]
        }
      ]
    },
    {
      "cell_type": "markdown",
      "source": [
        "## 8. Feature Importance"
      ],
      "metadata": {
        "id": "Fsc_OX1rIMnx"
      }
    },
    {
      "cell_type": "code",
      "source": [
        "columns_names = X.columns\n",
        "features_importance = model.coef_[0]\n",
        "#Plot\n",
        "plt.figure(figsize=(8, 6))\n",
        "plt.barh(columns_names, features_importance)\n",
        "plt.title('Feature Importance (Logistic Regression Coefficients)')\n",
        "plt.xlabel('Importance (Coefficient Value)')\n",
        "plt.ylabel('Feature')\n",
        "plt.axvline(x=0, color='gray', linestyle='--')\n",
        "plt.tight_layout()\n",
        "plt.show()"
      ],
      "metadata": {
        "id": "wJaghYEXINCp",
        "colab": {
          "base_uri": "https://localhost:8080/",
          "height": 607
        },
        "outputId": "54941d68-10de-4ce1-b318-1385cf9b02e3"
      },
      "execution_count": null,
      "outputs": [
        {
          "output_type": "display_data",
          "data": {
            "text/plain": [
              "<Figure size 800x600 with 1 Axes>"
            ],
            "image/png": "[encoded data removed]"
          },
          "metadata": {}
        }
      ]
    },
    {
      "cell_type": "markdown",
      "source": [
        "The feature importance plot based on logistic regression coefficients confirms and asserts the insights gained from the exploratory data analysis (EDA).\n",
        "\n",
        "Credit_History stands out as the most influential predictor, aligning with earlier visualizations that showed a strong relationship between credit history and loan approval.\n",
        "\n",
        "Features like LoanAmount, Loan_Amount_Term, and Total_Income also show meaningful impact, consistent with the trends observed in boxplots.\n",
        "\n",
        "The Loan_Income_Ratio has a notable negative coefficient, supporting its value as an engineered feature.\n",
        "\n",
        "In contrast, variables such as Gender, Married, and Self_Employed have minimal influence, which aligns with the weak or neutral trends seen during visual exploration.\n",
        "\n",
        "In summary, this feature importance analysis validates the EDA findings and supports the selection of key variables for predictive modeling."
      ],
      "metadata": {
        "id": "2wQ8SD0ZIPmz"
      }
    },
    {
      "cell_type": "markdown",
      "source": [
        "##Additional trial\n",
        "Since we had imbalanced data at the beginning where we saw that the model is biased towards Loan_status = 1 (accepted) even if we try df_train data only not the combined dataset, the training set is biased toward the 1 or Yes (approaval)\n",
        "\n",
        "I tried to check model = LogisticRegression(max_iter=1000, class_weight='balanced') if it works better"
      ],
      "metadata": {
        "id": "3unl4rgTRZFh"
      }
    },
    {
      "cell_type": "code",
      "source": [
        "print(df_train['Loan_Status'].value_counts(normalize=True))"
      ],
      "metadata": {
        "colab": {
          "base_uri": "https://localhost:8080/"
        },
        "id": "DxCSOjJkTa_w",
        "outputId": "0bd13505-ebd1-4481-bb25-74d58a232abe"
      },
      "execution_count": null,
      "outputs": [
        {
          "output_type": "stream",
          "name": "stdout",
          "text": [
            "Loan_Status\n",
            "1    0.706856\n",
            "0    0.293144\n",
            "Name: proportion, dtype: float64\n"
          ]
        }
      ]
    },
    {
      "cell_type": "markdown",
      "source": [
        "The training set alone is imbalanced."
      ],
      "metadata": {
        "id": "JgWvyPWRTesY"
      }
    },
    {
      "cell_type": "code",
      "source": [
        "#Train a Logistic Regression model\n",
        "model = LogisticRegression(max_iter=1000, class_weight='balanced')\n",
        "model.fit(X_train_scaled, y_train)"
      ],
      "metadata": {
        "colab": {
          "base_uri": "https://localhost:8080/",
          "height": 80
        },
        "id": "cGjmNDBIQqg6",
        "outputId": "d5e53662-dfa2-464b-86ab-334d7b1dae4f"
      },
      "execution_count": null,
      "outputs": [
        {
          "output_type": "execute_result",
          "data": {
            "text/plain": [
              "LogisticRegression(class_weight='balanced', max_iter=1000)"
            ],
            "text/html": [
              "<style>#sk-container-id-2 {\n",
              "  /* Definition of color scheme common for light and dark mode */\n",
              "  --sklearn-color-text: #000;\n",
              "  --sklearn-color-text-muted: #666;\n",
              "  --sklearn-color-line: gray;\n",
              "  /* Definition of color scheme for unfitted estimators */\n",
              "  --sklearn-color-unfitted-level-0: #fff5e6;\n",
              "  --sklearn-color-unfitted-level-1: #f6e4d2;\n",
              "  --sklearn-color-unfitted-level-2: #ffe0b3;\n",
              "  --sklearn-color-unfitted-level-3: chocolate;\n",
              "  /* Definition of color scheme for fitted estimators */\n",
              "  --sklearn-color-fitted-level-0: #f0f8ff;\n",
              "  --sklearn-color-fitted-level-1: #d4ebff;\n",
              "  --sklearn-color-fitted-level-2: #b3dbfd;\n",
              "  --sklearn-color-fitted-level-3: cornflowerblue;\n",
              "\n",
              "  /* Specific color for light theme */\n",
              "  --sklearn-color-text-on-default-background: var(--sg-text-color, var(--theme-code-foreground, var(--jp-content-font-color1, black)));\n",
              "  --sklearn-color-background: var(--sg-background-color, var(--theme-background, var(--jp-layout-color0, white)));\n",
              "  --sklearn-color-border-box: var(--sg-text-color, var(--theme-code-foreground, var(--jp-content-font-color1, black)));\n",
              "  --sklearn-color-icon: #696969;\n",
              "\n",
              "  @media (prefers-color-scheme: dark) {\n",
              "    /* Redefinition of color scheme for dark theme */\n",
              "    --sklearn-color-text-on-default-background: var(--sg-text-color, var(--theme-code-foreground, var(--jp-content-font-color1, white)));\n",
              "    --sklearn-color-background: var(--sg-background-color, var(--theme-background, var(--jp-layout-color0, #111)));\n",
              "    --sklearn-color-border-box: var(--sg-text-color, var(--theme-code-foreground, var(--jp-content-font-color1, white)));\n",
              "    --sklearn-color-icon: #878787;\n",
              "  }\n",
              "}\n",
              "\n",
              "#sk-container-id-2 {\n",
              "  color: var(--sklearn-color-text);\n",
              "}\n",
              "\n",
              "#sk-container-id-2 pre {\n",
              "  padding: 0;\n",
              "}\n",
              "\n",
              "#sk-container-id-2 input.sk-hidden--visually {\n",
              "  border: 0;\n",
              "  clip: rect(1px 1px 1px 1px);\n",
              "  clip: rect(1px, 1px, 1px, 1px);\n",
              "  height: 1px;\n",
              "  margin: -1px;\n",
              "  overflow: hidden;\n",
              "  padding: 0;\n",
              "  position: absolute;\n",
              "  width: 1px;\n",
              "}\n",
              "\n",
              "#sk-container-id-2 div.sk-dashed-wrapped {\n",
              "  border: 1px dashed var(--sklearn-color-line);\n",
              "  margin: 0 0.4em 0.5em 0.4em;\n",
              "  box-sizing: border-box;\n",
              "  padding-bottom: 0.4em;\n",
              "  background-color: var(--sklearn-color-background);\n",
              "}\n",
              "\n",
              "#sk-container-id-2 div.sk-container {\n",
              "  /* jupyter's `normalize.less` sets `[hidden] { display: none; }`\n",
              "     but bootstrap.min.css set `[hidden] { display: none !important; }`\n",
              "     so we also need the `!important` here to be able to override the\n",
              "     default hidden behavior on the sphinx rendered scikit-learn.org.\n",
              "     See: https://github.com/scikit-learn/scikit-learn/issues/21755 */\n",
              "  display: inline-block !important;\n",
              "  position: relative;\n",
              "}\n",
              "\n",
              "#sk-container-id-2 div.sk-text-repr-fallback {\n",
              "  display: none;\n",
              "}\n",
              "\n",
              "div.sk-parallel-item,\n",
              "div.sk-serial,\n",
              "div.sk-item {\n",
              "  /* draw centered vertical line to link estimators */\n",
              "  background-image: linear-gradient(var(--sklearn-color-text-on-default-background), var(--sklearn-color-text-on-default-background));\n",
              "  background-size: 2px 100%;\n",
              "  background-repeat: no-repeat;\n",
              "  background-position: center center;\n",
              "}\n",
              "\n",
              "/* Parallel-specific style estimator block */\n",
              "\n",
              "#sk-container-id-2 div.sk-parallel-item::after {\n",
              "  content: \"\";\n",
              "  width: 100%;\n",
              "  border-bottom: 2px solid var(--sklearn-color-text-on-default-background);\n",
              "  flex-grow: 1;\n",
              "}\n",
              "\n",
              "#sk-container-id-2 div.sk-parallel {\n",
              "  display: flex;\n",
              "  align-items: stretch;\n",
              "  justify-content: center;\n",
              "  background-color: var(--sklearn-color-background);\n",
              "  position: relative;\n",
              "}\n",
              "\n",
              "#sk-container-id-2 div.sk-parallel-item {\n",
              "  display: flex;\n",
              "  flex-direction: column;\n",
              "}\n",
              "\n",
              "#sk-container-id-2 div.sk-parallel-item:first-child::after {\n",
              "  align-self: flex-end;\n",
              "  width: 50%;\n",
              "}\n",
              "\n",
              "#sk-container-id-2 div.sk-parallel-item:last-child::after {\n",
              "  align-self: flex-start;\n",
              "  width: 50%;\n",
              "}\n",
              "\n",
              "#sk-container-id-2 div.sk-parallel-item:only-child::after {\n",
              "  width: 0;\n",
              "}\n",
              "\n",
              "/* Serial-specific style estimator block */\n",
              "\n",
              "#sk-container-id-2 div.sk-serial {\n",
              "  display: flex;\n",
              "  flex-direction: column;\n",
              "  align-items: center;\n",
              "  background-color: var(--sklearn-color-background);\n",
              "  padding-right: 1em;\n",
              "  padding-left: 1em;\n",
              "}\n",
              "\n",
              "\n",
              "/* Toggleable style: style used for estimator/Pipeline/ColumnTransformer box that is\n",
              "clickable and can be expanded/collapsed.\n",
              "- Pipeline and ColumnTransformer use this feature and define the default style\n",
              "- Estimators will overwrite some part of the style using the `sk-estimator` class\n",
              "*/\n",
              "\n",
              "/* Pipeline and ColumnTransformer style (default) */\n",
              "\n",
              "#sk-container-id-2 div.sk-toggleable {\n",
              "  /* Default theme specific background. It is overwritten whether we have a\n",
              "  specific estimator or a Pipeline/ColumnTransformer */\n",
              "  background-color: var(--sklearn-color-background);\n",
              "}\n",
              "\n",
              "/* Toggleable label */\n",
              "#sk-container-id-2 label.sk-toggleable__label {\n",
              "  cursor: pointer;\n",
              "  display: flex;\n",
              "  width: 100%;\n",
              "  margin-bottom: 0;\n",
              "  padding: 0.5em;\n",
              "  box-sizing: border-box;\n",
              "  text-align: center;\n",
              "  align-items: start;\n",
              "  justify-content: space-between;\n",
              "  gap: 0.5em;\n",
              "}\n",
              "\n",
              "#sk-container-id-2 label.sk-toggleable__label .caption {\n",
              "  font-size: 0.6rem;\n",
              "  font-weight: lighter;\n",
              "  color: var(--sklearn-color-text-muted);\n",
              "}\n",
              "\n",
              "#sk-container-id-2 label.sk-toggleable__label-arrow:before {\n",
              "  /* Arrow on the left of the label */\n",
              "  content: \"▸\";\n",
              "  float: left;\n",
              "  margin-right: 0.25em;\n",
              "  color: var(--sklearn-color-icon);\n",
              "}\n",
              "\n",
              "#sk-container-id-2 label.sk-toggleable__label-arrow:hover:before {\n",
              "  color: var(--sklearn-color-text);\n",
              "}\n",
              "\n",
              "/* Toggleable content - dropdown */\n",
              "\n",
              "#sk-container-id-2 div.sk-toggleable__content {\n",
              "  max-height: 0;\n",
              "  max-width: 0;\n",
              "  overflow: hidden;\n",
              "  text-align: left;\n",
              "  /* unfitted */\n",
              "  background-color: var(--sklearn-color-unfitted-level-0);\n",
              "}\n",
              "\n",
              "#sk-container-id-2 div.sk-toggleable__content.fitted {\n",
              "  /* fitted */\n",
              "  background-color: var(--sklearn-color-fitted-level-0);\n",
              "}\n",
              "\n",
              "#sk-container-id-2 div.sk-toggleable__content pre {\n",
              "  margin: 0.2em;\n",
              "  border-radius: 0.25em;\n",
              "  color: var(--sklearn-color-text);\n",
              "  /* unfitted */\n",
              "  background-color: var(--sklearn-color-unfitted-level-0);\n",
              "}\n",
              "\n",
              "#sk-container-id-2 div.sk-toggleable__content.fitted pre {\n",
              "  /* unfitted */\n",
              "  background-color: var(--sklearn-color-fitted-level-0);\n",
              "}\n",
              "\n",
              "#sk-container-id-2 input.sk-toggleable__control:checked~div.sk-toggleable__content {\n",
              "  /* Expand drop-down */\n",
              "  max-height: 200px;\n",
              "  max-width: 100%;\n",
              "  overflow: auto;\n",
              "}\n",
              "\n",
              "#sk-container-id-2 input.sk-toggleable__control:checked~label.sk-toggleable__label-arrow:before {\n",
              "  content: \"▾\";\n",
              "}\n",
              "\n",
              "/* Pipeline/ColumnTransformer-specific style */\n",
              "\n",
              "#sk-container-id-2 div.sk-label input.sk-toggleable__control:checked~label.sk-toggleable__label {\n",
              "  color: var(--sklearn-color-text);\n",
              "  background-color: var(--sklearn-color-unfitted-level-2);\n",
              "}\n",
              "\n",
              "#sk-container-id-2 div.sk-label.fitted input.sk-toggleable__control:checked~label.sk-toggleable__label {\n",
              "  background-color: var(--sklearn-color-fitted-level-2);\n",
              "}\n",
              "\n",
              "/* Estimator-specific style */\n",
              "\n",
              "/* Colorize estimator box */\n",
              "#sk-container-id-2 div.sk-estimator input.sk-toggleable__control:checked~label.sk-toggleable__label {\n",
              "  /* unfitted */\n",
              "  background-color: var(--sklearn-color-unfitted-level-2);\n",
              "}\n",
              "\n",
              "#sk-container-id-2 div.sk-estimator.fitted input.sk-toggleable__control:checked~label.sk-toggleable__label {\n",
              "  /* fitted */\n",
              "  background-color: var(--sklearn-color-fitted-level-2);\n",
              "}\n",
              "\n",
              "#sk-container-id-2 div.sk-label label.sk-toggleable__label,\n",
              "#sk-container-id-2 div.sk-label label {\n",
              "  /* The background is the default theme color */\n",
              "  color: var(--sklearn-color-text-on-default-background);\n",
              "}\n",
              "\n",
              "/* On hover, darken the color of the background */\n",
              "#sk-container-id-2 div.sk-label:hover label.sk-toggleable__label {\n",
              "  color: var(--sklearn-color-text);\n",
              "  background-color: var(--sklearn-color-unfitted-level-2);\n",
              "}\n",
              "\n",
              "/* Label box, darken color on hover, fitted */\n",
              "#sk-container-id-2 div.sk-label.fitted:hover label.sk-toggleable__label.fitted {\n",
              "  color: var(--sklearn-color-text);\n",
              "  background-color: var(--sklearn-color-fitted-level-2);\n",
              "}\n",
              "\n",
              "/* Estimator label */\n",
              "\n",
              "#sk-container-id-2 div.sk-label label {\n",
              "  font-family: monospace;\n",
              "  font-weight: bold;\n",
              "  display: inline-block;\n",
              "  line-height: 1.2em;\n",
              "}\n",
              "\n",
              "#sk-container-id-2 div.sk-label-container {\n",
              "  text-align: center;\n",
              "}\n",
              "\n",
              "/* Estimator-specific */\n",
              "#sk-container-id-2 div.sk-estimator {\n",
              "  font-family: monospace;\n",
              "  border: 1px dotted var(--sklearn-color-border-box);\n",
              "  border-radius: 0.25em;\n",
              "  box-sizing: border-box;\n",
              "  margin-bottom: 0.5em;\n",
              "  /* unfitted */\n",
              "  background-color: var(--sklearn-color-unfitted-level-0);\n",
              "}\n",
              "\n",
              "#sk-container-id-2 div.sk-estimator.fitted {\n",
              "  /* fitted */\n",
              "  background-color: var(--sklearn-color-fitted-level-0);\n",
              "}\n",
              "\n",
              "/* on hover */\n",
              "#sk-container-id-2 div.sk-estimator:hover {\n",
              "  /* unfitted */\n",
              "  background-color: var(--sklearn-color-unfitted-level-2);\n",
              "}\n",
              "\n",
              "#sk-container-id-2 div.sk-estimator.fitted:hover {\n",
              "  /* fitted */\n",
              "  background-color: var(--sklearn-color-fitted-level-2);\n",
              "}\n",
              "\n",
              "/* Specification for estimator info (e.g. \"i\" and \"?\") */\n",
              "\n",
              "/* Common style for \"i\" and \"?\" */\n",
              "\n",
              ".sk-estimator-doc-link,\n",
              "a:link.sk-estimator-doc-link,\n",
              "a:visited.sk-estimator-doc-link {\n",
              "  float: right;\n",
              "  font-size: smaller;\n",
              "  line-height: 1em;\n",
              "  font-family: monospace;\n",
              "  background-color: var(--sklearn-color-background);\n",
              "  border-radius: 1em;\n",
              "  height: 1em;\n",
              "  width: 1em;\n",
              "  text-decoration: none !important;\n",
              "  margin-left: 0.5em;\n",
              "  text-align: center;\n",
              "  /* unfitted */\n",
              "  border: var(--sklearn-color-unfitted-level-1) 1pt solid;\n",
              "  color: var(--sklearn-color-unfitted-level-1);\n",
              "}\n",
              "\n",
              ".sk-estimator-doc-link.fitted,\n",
              "a:link.sk-estimator-doc-link.fitted,\n",
              "a:visited.sk-estimator-doc-link.fitted {\n",
              "  /* fitted */\n",
              "  border: var(--sklearn-color-fitted-level-1) 1pt solid;\n",
              "  color: var(--sklearn-color-fitted-level-1);\n",
              "}\n",
              "\n",
              "/* On hover */\n",
              "div.sk-estimator:hover .sk-estimator-doc-link:hover,\n",
              ".sk-estimator-doc-link:hover,\n",
              "div.sk-label-container:hover .sk-estimator-doc-link:hover,\n",
              ".sk-estimator-doc-link:hover {\n",
              "  /* unfitted */\n",
              "  background-color: var(--sklearn-color-unfitted-level-3);\n",
              "  color: var(--sklearn-color-background);\n",
              "  text-decoration: none;\n",
              "}\n",
              "\n",
              "div.sk-estimator.fitted:hover .sk-estimator-doc-link.fitted:hover,\n",
              ".sk-estimator-doc-link.fitted:hover,\n",
              "div.sk-label-container:hover .sk-estimator-doc-link.fitted:hover,\n",
              ".sk-estimator-doc-link.fitted:hover {\n",
              "  /* fitted */\n",
              "  background-color: var(--sklearn-color-fitted-level-3);\n",
              "  color: var(--sklearn-color-background);\n",
              "  text-decoration: none;\n",
              "}\n",
              "\n",
              "/* Span, style for the box shown on hovering the info icon */\n",
              ".sk-estimator-doc-link span {\n",
              "  display: none;\n",
              "  z-index: 9999;\n",
              "  position: relative;\n",
              "  font-weight: normal;\n",
              "  right: .2ex;\n",
              "  padding: .5ex;\n",
              "  margin: .5ex;\n",
              "  width: min-content;\n",
              "  min-width: 20ex;\n",
              "  max-width: 50ex;\n",
              "  color: var(--sklearn-color-text);\n",
              "  box-shadow: 2pt 2pt 4pt #999;\n",
              "  /* unfitted */\n",
              "  background: var(--sklearn-color-unfitted-level-0);\n",
              "  border: .5pt solid var(--sklearn-color-unfitted-level-3);\n",
              "}\n",
              "\n",
              ".sk-estimator-doc-link.fitted span {\n",
              "  /* fitted */\n",
              "  background: var(--sklearn-color-fitted-level-0);\n",
              "  border: var(--sklearn-color-fitted-level-3);\n",
              "}\n",
              "\n",
              ".sk-estimator-doc-link:hover span {\n",
              "  display: block;\n",
              "}\n",
              "\n",
              "/* \"?\"-specific style due to the `<a>` HTML tag */\n",
              "\n",
              "#sk-container-id-2 a.estimator_doc_link {\n",
              "  float: right;\n",
              "  font-size: 1rem;\n",
              "  line-height: 1em;\n",
              "  font-family: monospace;\n",
              "  background-color: var(--sklearn-color-background);\n",
              "  border-radius: 1rem;\n",
              "  height: 1rem;\n",
              "  width: 1rem;\n",
              "  text-decoration: none;\n",
              "  /* unfitted */\n",
              "  color: var(--sklearn-color-unfitted-level-1);\n",
              "  border: var(--sklearn-color-unfitted-level-1) 1pt solid;\n",
              "}\n",
              "\n",
              "#sk-container-id-2 a.estimator_doc_link.fitted {\n",
              "  /* fitted */\n",
              "  border: var(--sklearn-color-fitted-level-1) 1pt solid;\n",
              "  color: var(--sklearn-color-fitted-level-1);\n",
              "}\n",
              "\n",
              "/* On hover */\n",
              "#sk-container-id-2 a.estimator_doc_link:hover {\n",
              "  /* unfitted */\n",
              "  background-color: var(--sklearn-color-unfitted-level-3);\n",
              "  color: var(--sklearn-color-background);\n",
              "  text-decoration: none;\n",
              "}\n",
              "\n",
              "#sk-container-id-2 a.estimator_doc_link.fitted:hover {\n",
              "  /* fitted */\n",
              "  background-color: var(--sklearn-color-fitted-level-3);\n",
              "}\n",
              "</style><div id=\"sk-container-id-2\" class=\"sk-top-container\"><div class=\"sk-text-repr-fallback\"><pre>LogisticRegression(class_weight=&#x27;balanced&#x27;, max_iter=1000)</pre><b>In a Jupyter environment, please rerun this cell to show the HTML representation or trust the notebook. <br />On GitHub, the HTML representation is unable to render, please try loading this page with nbviewer.org.</b></div><div class=\"sk-container\" hidden><div class=\"sk-item\"><div class=\"sk-estimator fitted sk-toggleable\"><input class=\"sk-toggleable__control sk-hidden--visually\" id=\"sk-estimator-id-2\" type=\"checkbox\" checked><label for=\"sk-estimator-id-2\" class=\"sk-toggleable__label fitted sk-toggleable__label-arrow\"><div><div>LogisticRegression</div></div><div><a class=\"sk-estimator-doc-link fitted\" rel=\"noreferrer\" target=\"_blank\" href=\"https://scikit-learn.org/1.6/modules/generated/sklearn.linear_model.LogisticRegression.html\">?<span>Documentation for LogisticRegression</span></a><span class=\"sk-estimator-doc-link fitted\">i<span>Fitted</span></span></div></label><div class=\"sk-toggleable__content fitted\"><pre>LogisticRegression(class_weight=&#x27;balanced&#x27;, max_iter=1000)</pre></div> </div></div></div></div>"
            ]
          },
          "metadata": {},
          "execution_count": 51
        }
      ]
    },
    {
      "cell_type": "code",
      "source": [
        "from sklearn.metrics import accuracy_score, confusion_matrix, classification_report\n",
        "y_pred = model.predict(X_test_scaled) #make predictions\n",
        "print('Accuracy = ', accuracy_score(y_test, y_pred))\n",
        "print('confusion matrix:\\n', confusion_matrix(y_test, y_pred))\n",
        "print('classification report:\\n', classification_report(y_test, y_pred))\n",
        "#evaluate the model\n",
        "acc = accuracy_score(y_test, y_pred)\n",
        "cm = confusion_matrix(y_test, y_pred)\n",
        "report = classification_report(y_test, y_pred)"
      ],
      "metadata": {
        "colab": {
          "base_uri": "https://localhost:8080/"
        },
        "id": "kIzeTHoqQyOq",
        "outputId": "54669b05-958f-4d7a-c7af-e82d9d62cd45"
      },
      "execution_count": null,
      "outputs": [
        {
          "output_type": "stream",
          "name": "stdout",
          "text": [
            "Accuracy =  0.7294117647058823\n",
            "confusion matrix:\n",
            " [[13 15]\n",
            " [ 8 49]]\n",
            "classification report:\n",
            "               precision    recall  f1-score   support\n",
            "\n",
            "           0       0.62      0.46      0.53        28\n",
            "           1       0.77      0.86      0.81        57\n",
            "\n",
            "    accuracy                           0.73        85\n",
            "   macro avg       0.69      0.66      0.67        85\n",
            "weighted avg       0.72      0.73      0.72        85\n",
            "\n"
          ]
        }
      ]
    },
    {
      "cell_type": "markdown",
      "source": [
        "The result was: Applying class_weight='balanced' helped improve recall for the minority class (Loan Denied) recall became 0.46,\n",
        "\n",
        "Allowing the model to identify more true rejections. However, this came at the cost of precision (it decreases to 0.62), leading to more false rejections also accuracy decreased to 72.94%.\n",
        "\n",
        "Depending on the business context whether precision or recall is more critical, this tradeoff can guide model choice.\n",
        "\n",
        "But for now, I will keep the model as it without using the class_weight = 'balanced' because the accuracy was better.\n",
        "\n",
        "At the end, using Random Forest or another model maybe a better option for improvements"
      ],
      "metadata": {
        "id": "e69rOHcJRG3O"
      }
    }
  ]
}